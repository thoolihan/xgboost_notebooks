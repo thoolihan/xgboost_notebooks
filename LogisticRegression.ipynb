{
 "cells": [
  {
   "cell_type": "code",
   "execution_count": 1,
   "metadata": {
    "collapsed": false
   },
   "outputs": [
    {
     "data": {
      "text/html": [
       "<ol class=list-inline>\n",
       "\t<li>53940</li>\n",
       "\t<li>10</li>\n",
       "</ol>\n"
      ],
      "text/latex": [
       "\\begin{enumerate*}\n",
       "\\item 53940\n",
       "\\item 10\n",
       "\\end{enumerate*}\n"
      ],
      "text/markdown": [
       "1. 53940\n",
       "2. 10\n",
       "\n",
       "\n"
      ],
      "text/plain": [
       "[1] 53940    10"
      ]
     },
     "execution_count": 1,
     "metadata": {},
     "output_type": "execute_result"
    }
   ],
   "source": [
    "# Load up diamonds data set\n",
    "library(ggplot2)\n",
    "\n",
    "# view rows and columns\n",
    "dim(diamonds) "
   ]
  },
  {
   "cell_type": "code",
   "execution_count": 2,
   "metadata": {
    "collapsed": false
   },
   "outputs": [
    {
     "data": {
      "text/html": [
       "<table>\n",
       "<thead><tr><th></th><th scope=col>carat</th><th scope=col>cut</th><th scope=col>color</th><th scope=col>clarity</th><th scope=col>depth</th><th scope=col>table</th><th scope=col>price</th><th scope=col>x</th><th scope=col>y</th><th scope=col>z</th></tr></thead>\n",
       "<tbody>\n",
       "\t<tr><th scope=row>1</th><td>0.23</td><td>Ideal</td><td>E</td><td>SI2</td><td>61.5</td><td>55</td><td>326</td><td>3.95</td><td>3.98</td><td>2.43</td></tr>\n",
       "\t<tr><th scope=row>2</th><td>0.21</td><td>Premium</td><td>E</td><td>SI1</td><td>59.8</td><td>61</td><td>326</td><td>3.89</td><td>3.84</td><td>2.31</td></tr>\n",
       "\t<tr><th scope=row>3</th><td>0.23</td><td>Good</td><td>E</td><td>VS1</td><td>56.9</td><td>65</td><td>327</td><td>4.05</td><td>4.07</td><td>2.31</td></tr>\n",
       "\t<tr><th scope=row>4</th><td>0.29</td><td>Premium</td><td>I</td><td>VS2</td><td>62.4</td><td>58</td><td>334</td><td>4.2</td><td>4.23</td><td>2.63</td></tr>\n",
       "\t<tr><th scope=row>5</th><td>0.31</td><td>Good</td><td>J</td><td>SI2</td><td>63.3</td><td>58</td><td>335</td><td>4.34</td><td>4.35</td><td>2.75</td></tr>\n",
       "\t<tr><th scope=row>6</th><td>0.24</td><td>Very Good</td><td>J</td><td>VVS2</td><td>62.8</td><td>57</td><td>336</td><td>3.94</td><td>3.96</td><td>2.48</td></tr>\n",
       "</tbody>\n",
       "</table>\n"
      ],
      "text/latex": [
       "\\begin{tabular}{r|llllllllll}\n",
       "  & carat & cut & color & clarity & depth & table & price & x & y & z\\\\\n",
       "\\hline\n",
       "\t1 & 0.23 & Ideal & E & SI2 & 61.5 & 55 & 326 & 3.95 & 3.98 & 2.43\\\\\n",
       "\t2 & 0.21 & Premium & E & SI1 & 59.8 & 61 & 326 & 3.89 & 3.84 & 2.31\\\\\n",
       "\t3 & 0.23 & Good & E & VS1 & 56.9 & 65 & 327 & 4.05 & 4.07 & 2.31\\\\\n",
       "\t4 & 0.29 & Premium & I & VS2 & 62.4 & 58 & 334 & 4.2 & 4.23 & 2.63\\\\\n",
       "\t5 & 0.31 & Good & J & SI2 & 63.3 & 58 & 335 & 4.34 & 4.35 & 2.75\\\\\n",
       "\t6 & 0.24 & Very Good & J & VVS2 & 62.8 & 57 & 336 & 3.94 & 3.96 & 2.48\\\\\n",
       "\\end{tabular}\n"
      ],
      "text/plain": [
       "  carat       cut color clarity depth table price    x    y    z\n",
       "1  0.23     Ideal     E     SI2  61.5    55   326 3.95 3.98 2.43\n",
       "2  0.21   Premium     E     SI1  59.8    61   326 3.89 3.84 2.31\n",
       "3  0.23      Good     E     VS1  56.9    65   327 4.05 4.07 2.31\n",
       "4  0.29   Premium     I     VS2  62.4    58   334 4.20 4.23 2.63\n",
       "5  0.31      Good     J     SI2  63.3    58   335 4.34 4.35 2.75\n",
       "6  0.24 Very Good     J    VVS2  62.8    57   336 3.94 3.96 2.48"
      ]
     },
     "execution_count": 2,
     "metadata": {},
     "output_type": "execute_result"
    }
   ],
   "source": [
    "# look at some rows\n",
    "head(diamonds)"
   ]
  },
  {
   "cell_type": "code",
   "execution_count": 3,
   "metadata": {
    "collapsed": false
   },
   "outputs": [
    {
     "data": {
      "text/html": [
       "<table>\n",
       "<thead><tr><th></th><th scope=col>cut</th><th scope=col>ideal_cut</th></tr></thead>\n",
       "<tbody>\n",
       "\t<tr><th scope=row>1</th><td>Ideal</td><td>1</td></tr>\n",
       "\t<tr><th scope=row>2</th><td>Premium</td><td>0</td></tr>\n",
       "\t<tr><th scope=row>3</th><td>Good</td><td>0</td></tr>\n",
       "\t<tr><th scope=row>4</th><td>Premium</td><td>0</td></tr>\n",
       "\t<tr><th scope=row>5</th><td>Good</td><td>0</td></tr>\n",
       "\t<tr><th scope=row>6</th><td>Very Good</td><td>0</td></tr>\n",
       "</tbody>\n",
       "</table>\n"
      ],
      "text/latex": [
       "\\begin{tabular}{r|ll}\n",
       "  & cut & ideal_cut\\\\\n",
       "\\hline\n",
       "\t1 & Ideal & 1\\\\\n",
       "\t2 & Premium & 0\\\\\n",
       "\t3 & Good & 0\\\\\n",
       "\t4 & Premium & 0\\\\\n",
       "\t5 & Good & 0\\\\\n",
       "\t6 & Very Good & 0\\\\\n",
       "\\end{tabular}\n"
      ],
      "text/plain": [
       "Source: local data frame [6 x 2]\n",
       "\n",
       "        cut ideal_cut\n",
       "     (fctr)     (dbl)\n",
       "1     Ideal         1\n",
       "2   Premium         0\n",
       "3      Good         0\n",
       "4   Premium         0\n",
       "5      Good         0\n",
       "6 Very Good         0"
      ]
     },
     "execution_count": 3,
     "metadata": {},
     "output_type": "execute_result"
    }
   ],
   "source": [
    "# make factors into bit fields\n",
    "\n",
    "library(dplyr, warn.conflicts = FALSE)\n",
    "\n",
    "# NOTE: this time, other cuts removed. We are going to predict: Ideal or Not\n",
    "diamonds <- mutate(diamonds,\n",
    "      ideal_cut = ifelse(cut == 'Ideal', 1, 0)\n",
    ")\n",
    "\n",
    "head(select(diamonds, -c(1,3:10)))"
   ]
  },
  {
   "cell_type": "code",
   "execution_count": 4,
   "metadata": {
    "collapsed": false
   },
   "outputs": [
    {
     "data": {
      "text/html": [
       "<ol class=list-inline>\n",
       "\t<li>53940</li>\n",
       "\t<li>26</li>\n",
       "</ol>\n"
      ],
      "text/latex": [
       "\\begin{enumerate*}\n",
       "\\item 53940\n",
       "\\item 26\n",
       "\\end{enumerate*}\n"
      ],
      "text/markdown": [
       "1. 53940\n",
       "2. 26\n",
       "\n",
       "\n"
      ],
      "text/plain": [
       "[1] 53940    26"
      ]
     },
     "execution_count": 4,
     "metadata": {},
     "output_type": "execute_result"
    }
   ],
   "source": [
    "# make more factors into bit fields\n",
    "\n",
    "diamonds <- mutate(diamonds,\n",
    "    D = ifelse(color == 'D', 1, 0),\n",
    "    E = ifelse(color == 'E', 1, 0),\n",
    "    F = ifelse(color == 'F', 1, 0),\n",
    "    G = ifelse(color == 'G', 1, 0),\n",
    "    H = ifelse(color == 'H', 1, 0),\n",
    "    I = ifelse(color == 'I', 1, 0),\n",
    "    J = ifelse(color == 'J', 1, 0)\n",
    ")\n",
    "\n",
    "diamonds <- mutate(diamonds,\n",
    "    I1 = ifelse(clarity == 'I1', 1, 0),\n",
    "    IF = ifelse(clarity == 'IF', 1, 0),\n",
    "    SI1 = ifelse(clarity == 'SI1', 1, 0),\n",
    "    SI2 = ifelse(clarity == 'SI2', 1, 0),\n",
    "    VS1 = ifelse(clarity == 'VS1', 1, 0),\n",
    "    VS2 = ifelse(clarity == 'VS2', 1, 0),\n",
    "    VVS1 = ifelse(clarity == 'VVS1', 1, 0),\n",
    "    VVS2 = ifelse(clarity == 'VVS2', 1, 0)\n",
    ")\n",
    "\n",
    "dim(diamonds)"
   ]
  },
  {
   "cell_type": "code",
   "execution_count": 5,
   "metadata": {
    "collapsed": false
   },
   "outputs": [
    {
     "data": {
      "text/html": [
       "<table>\n",
       "<thead><tr><th></th><th scope=col>carat</th><th scope=col>depth</th><th scope=col>table</th><th scope=col>price</th><th scope=col>x</th><th scope=col>y</th><th scope=col>z</th><th scope=col>ideal_cut</th><th scope=col>D</th><th scope=col>E</th><th scope=col>ellip.h</th><th scope=col>I</th><th scope=col>J</th><th scope=col>I1</th><th scope=col>IF</th><th scope=col>SI1</th><th scope=col>SI2</th><th scope=col>VS1</th><th scope=col>VS2</th><th scope=col>VVS1</th><th scope=col>VVS2</th></tr></thead>\n",
       "<tbody>\n",
       "\t<tr><th scope=row>1</th><td>0.23</td><td>61.5</td><td>55</td><td>326</td><td>3.95</td><td>3.98</td><td>2.43</td><td>1</td><td>0</td><td>1</td><td>⋯</td><td>0</td><td>0</td><td>0</td><td>0</td><td>0</td><td>1</td><td>0</td><td>0</td><td>0</td><td>0</td></tr>\n",
       "\t<tr><th scope=row>2</th><td>0.21</td><td>59.8</td><td>61</td><td>326</td><td>3.89</td><td>3.84</td><td>2.31</td><td>0</td><td>0</td><td>1</td><td>⋯</td><td>0</td><td>0</td><td>0</td><td>0</td><td>1</td><td>0</td><td>0</td><td>0</td><td>0</td><td>0</td></tr>\n",
       "\t<tr><th scope=row>3</th><td>0.23</td><td>56.9</td><td>65</td><td>327</td><td>4.05</td><td>4.07</td><td>2.31</td><td>0</td><td>0</td><td>1</td><td>⋯</td><td>0</td><td>0</td><td>0</td><td>0</td><td>0</td><td>0</td><td>1</td><td>0</td><td>0</td><td>0</td></tr>\n",
       "\t<tr><th scope=row>4</th><td>0.29</td><td>62.4</td><td>58</td><td>334</td><td>4.2</td><td>4.23</td><td>2.63</td><td>0</td><td>0</td><td>0</td><td>⋯</td><td>1</td><td>0</td><td>0</td><td>0</td><td>0</td><td>0</td><td>0</td><td>1</td><td>0</td><td>0</td></tr>\n",
       "\t<tr><th scope=row>5</th><td>0.31</td><td>63.3</td><td>58</td><td>335</td><td>4.34</td><td>4.35</td><td>2.75</td><td>0</td><td>0</td><td>0</td><td>⋯</td><td>0</td><td>1</td><td>0</td><td>0</td><td>0</td><td>1</td><td>0</td><td>0</td><td>0</td><td>0</td></tr>\n",
       "\t<tr><th scope=row>6</th><td>0.24</td><td>62.8</td><td>57</td><td>336</td><td>3.94</td><td>3.96</td><td>2.48</td><td>0</td><td>0</td><td>0</td><td>⋯</td><td>0</td><td>1</td><td>0</td><td>0</td><td>0</td><td>0</td><td>0</td><td>0</td><td>0</td><td>1</td></tr>\n",
       "</tbody>\n",
       "</table>\n"
      ],
      "text/latex": [
       "\\begin{tabular}{r|lllllllllllllllllllllll}\n",
       "  & carat & depth & table & price & x & y & z & ideal_cut & D & E & ellip.h & I & J & I1 & IF & SI1 & SI2 & VS1 & VS2 & VVS1 & VVS2\\\\\n",
       "\\hline\n",
       "\t1 & 0.23 & 61.5 & 55 & 326 & 3.95 & 3.98 & 2.43 & 1 & 0 & 1 & ⋯ & 0 & 0 & 0 & 0 & 0 & 1 & 0 & 0 & 0 & 0\\\\\n",
       "\t2 & 0.21 & 59.8 & 61 & 326 & 3.89 & 3.84 & 2.31 & 0 & 0 & 1 & ⋯ & 0 & 0 & 0 & 0 & 1 & 0 & 0 & 0 & 0 & 0\\\\\n",
       "\t3 & 0.23 & 56.9 & 65 & 327 & 4.05 & 4.07 & 2.31 & 0 & 0 & 1 & ⋯ & 0 & 0 & 0 & 0 & 0 & 0 & 1 & 0 & 0 & 0\\\\\n",
       "\t4 & 0.29 & 62.4 & 58 & 334 & 4.2 & 4.23 & 2.63 & 0 & 0 & 0 & ⋯ & 1 & 0 & 0 & 0 & 0 & 0 & 0 & 1 & 0 & 0\\\\\n",
       "\t5 & 0.31 & 63.3 & 58 & 335 & 4.34 & 4.35 & 2.75 & 0 & 0 & 0 & ⋯ & 0 & 1 & 0 & 0 & 0 & 1 & 0 & 0 & 0 & 0\\\\\n",
       "\t6 & 0.24 & 62.8 & 57 & 336 & 3.94 & 3.96 & 2.48 & 0 & 0 & 0 & ⋯ & 0 & 1 & 0 & 0 & 0 & 0 & 0 & 0 & 0 & 1\\\\\n",
       "\\end{tabular}\n"
      ],
      "text/plain": [
       "Source: local data frame [6 x 23]\n",
       "\n",
       "  carat depth table price     x     y     z ideal_cut     D     E     F     G\n",
       "  (dbl) (dbl) (dbl) (int) (dbl) (dbl) (dbl)     (dbl) (dbl) (dbl) (dbl) (dbl)\n",
       "1  0.23  61.5    55   326  3.95  3.98  2.43         1     0     1     0     0\n",
       "2  0.21  59.8    61   326  3.89  3.84  2.31         0     0     1     0     0\n",
       "3  0.23  56.9    65   327  4.05  4.07  2.31         0     0     1     0     0\n",
       "4  0.29  62.4    58   334  4.20  4.23  2.63         0     0     0     0     0\n",
       "5  0.31  63.3    58   335  4.34  4.35  2.75         0     0     0     0     0\n",
       "6  0.24  62.8    57   336  3.94  3.96  2.48         0     0     0     0     0\n",
       "Variables not shown: H (dbl), I (dbl), J (dbl), I1 (dbl), IF (dbl), SI1 (dbl),\n",
       "  SI2 (dbl), VS1 (dbl), VS2 (dbl), VVS1 (dbl), VVS2 (dbl)"
      ]
     },
     "execution_count": 5,
     "metadata": {},
     "output_type": "execute_result"
    }
   ],
   "source": [
    "# remove the factors\n",
    "\n",
    "diamonds <- select(diamonds, -color, -cut, -clarity)\n",
    "\n",
    "head(diamonds)"
   ]
  },
  {
   "cell_type": "code",
   "execution_count": 6,
   "metadata": {
    "collapsed": false,
    "scrolled": true
   },
   "outputs": [
    {
     "data": {
      "text/plain": [
       "     carat             depth               table             price        \n",
       " Min.   :-1.2614   Min.   :-13.08748   Min.   :-6.4700   Min.   :-0.9041  \n",
       " 1st Qu.:-0.8395   1st Qu.: -0.52310   1st Qu.:-0.6521   1st Qu.:-0.7477  \n",
       " Median :-0.2066   Median :  0.03532   Median :-0.2046   Median :-0.3840  \n",
       " Mean   : 0.0000   Mean   :  0.00000   Mean   : 0.0000   Mean   : 0.0000  \n",
       " 3rd Qu.: 0.5107   3rd Qu.:  0.52393   3rd Qu.: 0.6905   3rd Qu.: 0.3488  \n",
       " Max.   : 8.8860   Max.   : 12.04128   Max.   :16.8015   Max.   : 3.7324  "
      ]
     },
     "execution_count": 6,
     "metadata": {},
     "output_type": "execute_result"
    },
    {
     "data": {
      "image/png": "[encoded data removed]",
      "image/svg+xml": [
       "<?xml version=\"1.0\" encoding=\"UTF-8\"?>\n",
       "<svg xmlns=\"http://www.w3.org/2000/svg\" xmlns:xlink=\"http://www.w3.org/1999/xlink\" width=\"504pt\" height=\"504pt\" viewBox=\"0 0 504 504\" version=\"1.1\">\n",
       "<defs>\n",
       "<g>\n",
       "<symbol overflow=\"visible\" id=\"glyph0-0\">\n",
       "<path style=\"stroke:none;\" d=\"M 0.28125 0 L 0.28125 -6.3125 L 5.296875 -6.3125 L 5.296875 0 Z M 4.5 -0.796875 L 4.5 -5.515625 L 1.078125 -5.515625 L 1.078125 -0.796875 Z \"/>\n",
       "</symbol>\n",
       "<symbol overflow=\"visible\" id=\"glyph0-1\">\n",
       "<path style=\"stroke:none;\" d=\"M 2.375 -6.15625 C 3.175781 -6.15625 3.753906 -5.828125 4.109375 -5.171875 C 4.378906 -4.660156 4.515625 -3.960938 4.515625 -3.078125 C 4.515625 -2.242188 4.390625 -1.554688 4.140625 -1.015625 C 3.785156 -0.222656 3.195312 0.171875 2.375 0.171875 C 1.632812 0.171875 1.082031 -0.148438 0.71875 -0.796875 C 0.425781 -1.328125 0.28125 -2.046875 0.28125 -2.953125 C 0.28125 -3.648438 0.367188 -4.25 0.546875 -4.75 C 0.878906 -5.6875 1.488281 -6.15625 2.375 -6.15625 Z M 2.375 -0.53125 C 2.769531 -0.53125 3.085938 -0.707031 3.328125 -1.0625 C 3.566406 -1.425781 3.6875 -2.085938 3.6875 -3.046875 C 3.6875 -3.753906 3.597656 -4.332031 3.421875 -4.78125 C 3.253906 -5.226562 2.921875 -5.453125 2.421875 -5.453125 C 1.972656 -5.453125 1.640625 -5.238281 1.421875 -4.8125 C 1.210938 -4.382812 1.109375 -3.753906 1.109375 -2.921875 C 1.109375 -2.296875 1.175781 -1.789062 1.3125 -1.40625 C 1.519531 -0.820312 1.875 -0.53125 2.375 -0.53125 Z \"/>\n",
       "</symbol>\n",
       "<symbol overflow=\"visible\" id=\"glyph0-2\">\n",
       "<path style=\"stroke:none;\" d=\"M 0.28125 0 C 0.300781 -0.53125 0.40625 -0.988281 0.59375 -1.375 C 0.789062 -1.769531 1.164062 -2.128906 1.71875 -2.453125 L 2.546875 -2.921875 C 2.910156 -3.140625 3.164062 -3.328125 3.3125 -3.484375 C 3.550781 -3.710938 3.671875 -3.984375 3.671875 -4.296875 C 3.671875 -4.648438 3.5625 -4.929688 3.34375 -5.140625 C 3.132812 -5.359375 2.847656 -5.46875 2.484375 -5.46875 C 1.960938 -5.46875 1.597656 -5.265625 1.390625 -4.859375 C 1.285156 -4.648438 1.226562 -4.351562 1.21875 -3.96875 L 0.421875 -3.96875 C 0.429688 -4.5 0.53125 -4.9375 0.71875 -5.28125 C 1.050781 -5.875 1.644531 -6.171875 2.5 -6.171875 C 3.195312 -6.171875 3.707031 -5.976562 4.03125 -5.59375 C 4.363281 -5.21875 4.53125 -4.796875 4.53125 -4.328125 C 4.53125 -3.835938 4.351562 -3.414062 4 -3.0625 C 3.800781 -2.863281 3.441406 -2.617188 2.921875 -2.328125 L 2.34375 -2 C 2.0625 -1.84375 1.835938 -1.695312 1.671875 -1.5625 C 1.390625 -1.3125 1.210938 -1.035156 1.140625 -0.734375 L 4.5 -0.734375 L 4.5 0 Z \"/>\n",
       "</symbol>\n",
       "<symbol overflow=\"visible\" id=\"glyph0-3\">\n",
       "<path style=\"stroke:none;\" d=\"M 1.09375 -1.5625 C 1.132812 -1.125 1.335938 -0.820312 1.703125 -0.65625 C 1.878906 -0.570312 2.09375 -0.53125 2.34375 -0.53125 C 2.800781 -0.53125 3.140625 -0.675781 3.359375 -0.96875 C 3.578125 -1.257812 3.6875 -1.582031 3.6875 -1.9375 C 3.6875 -2.363281 3.554688 -2.691406 3.296875 -2.921875 C 3.035156 -3.160156 2.71875 -3.28125 2.34375 -3.28125 C 2.082031 -3.28125 1.851562 -3.226562 1.65625 -3.125 C 1.46875 -3.019531 1.304688 -2.878906 1.171875 -2.703125 L 0.5 -2.734375 L 0.96875 -6.046875 L 4.171875 -6.046875 L 4.171875 -5.296875 L 1.5625 -5.296875 L 1.296875 -3.59375 C 1.429688 -3.695312 1.566406 -3.773438 1.703125 -3.828125 C 1.929688 -3.929688 2.195312 -3.984375 2.5 -3.984375 C 3.0625 -3.984375 3.535156 -3.800781 3.921875 -3.4375 C 4.316406 -3.070312 4.515625 -2.609375 4.515625 -2.046875 C 4.515625 -1.460938 4.332031 -0.945312 3.96875 -0.5 C 3.613281 -0.0625 3.046875 0.15625 2.265625 0.15625 C 1.753906 0.15625 1.304688 0.015625 0.921875 -0.265625 C 0.546875 -0.546875 0.332031 -0.976562 0.28125 -1.5625 Z \"/>\n",
       "</symbol>\n",
       "<symbol overflow=\"visible\" id=\"glyph0-4\">\n",
       "<path style=\"stroke:none;\" d=\"M 4.59375 -6.046875 L 4.59375 -5.375 C 4.394531 -5.175781 4.128906 -4.835938 3.796875 -4.359375 C 3.472656 -3.890625 3.1875 -3.378906 2.9375 -2.828125 C 2.6875 -2.296875 2.5 -1.8125 2.375 -1.375 C 2.289062 -1.082031 2.179688 -0.625 2.046875 0 L 1.203125 0 C 1.390625 -1.175781 1.816406 -2.34375 2.484375 -3.5 C 2.878906 -4.1875 3.289062 -4.773438 3.71875 -5.265625 L 0.328125 -5.265625 L 0.328125 -6.046875 Z \"/>\n",
       "</symbol>\n",
       "<symbol overflow=\"visible\" id=\"glyph0-5\">\n",
       "<path style=\"stroke:none;\" d=\"M 0.84375 -4.359375 L 0.84375 -4.953125 C 1.394531 -5.003906 1.78125 -5.09375 2 -5.21875 C 2.226562 -5.34375 2.394531 -5.644531 2.5 -6.125 L 3.109375 -6.125 L 3.109375 0 L 2.296875 0 L 2.296875 -4.359375 Z \"/>\n",
       "</symbol>\n",
       "<symbol overflow=\"visible\" id=\"glyph0-6\">\n",
       "<path style=\"stroke:none;\" d=\"M 0.359375 -2.84375 L 2.515625 -2.84375 L 2.515625 -2.046875 L 0.359375 -2.046875 Z \"/>\n",
       "</symbol>\n",
       "<symbol overflow=\"visible\" id=\"glyph0-7\">\n",
       "<path style=\"stroke:none;\" d=\"M 2.28125 0.171875 C 1.550781 0.171875 1.019531 -0.0234375 0.6875 -0.421875 C 0.363281 -0.828125 0.203125 -1.316406 0.203125 -1.890625 L 1.015625 -1.890625 C 1.046875 -1.492188 1.117188 -1.203125 1.234375 -1.015625 C 1.441406 -0.691406 1.804688 -0.53125 2.328125 -0.53125 C 2.734375 -0.53125 3.054688 -0.640625 3.296875 -0.859375 C 3.546875 -1.078125 3.671875 -1.359375 3.671875 -1.703125 C 3.671875 -2.128906 3.539062 -2.425781 3.28125 -2.59375 C 3.03125 -2.757812 2.671875 -2.84375 2.203125 -2.84375 C 2.148438 -2.84375 2.097656 -2.84375 2.046875 -2.84375 C 1.992188 -2.84375 1.941406 -2.84375 1.890625 -2.84375 L 1.890625 -3.515625 C 1.972656 -3.515625 2.039062 -3.507812 2.09375 -3.5 C 2.144531 -3.5 2.203125 -3.5 2.265625 -3.5 C 2.554688 -3.5 2.796875 -3.546875 2.984375 -3.640625 C 3.304688 -3.796875 3.46875 -4.082031 3.46875 -4.5 C 3.46875 -4.800781 3.359375 -5.035156 3.140625 -5.203125 C 2.921875 -5.367188 2.671875 -5.453125 2.390625 -5.453125 C 1.867188 -5.453125 1.507812 -5.28125 1.3125 -4.9375 C 1.207031 -4.75 1.144531 -4.476562 1.125 -4.125 L 0.359375 -4.125 C 0.359375 -4.582031 0.453125 -4.972656 0.640625 -5.296875 C 0.953125 -5.867188 1.503906 -6.15625 2.296875 -6.15625 C 2.929688 -6.15625 3.421875 -6.015625 3.765625 -5.734375 C 4.109375 -5.460938 4.28125 -5.0625 4.28125 -4.53125 C 4.28125 -4.144531 4.175781 -3.835938 3.96875 -3.609375 C 3.84375 -3.460938 3.679688 -3.347656 3.484375 -3.265625 C 3.804688 -3.171875 4.054688 -3 4.234375 -2.75 C 4.421875 -2.5 4.515625 -2.191406 4.515625 -1.828125 C 4.515625 -1.234375 4.316406 -0.75 3.921875 -0.375 C 3.535156 -0.0078125 2.988281 0.171875 2.28125 0.171875 Z \"/>\n",
       "</symbol>\n",
       "<symbol overflow=\"visible\" id=\"glyph1-0\">\n",
       "<path style=\"stroke:none;\" d=\"M 0.359375 0 L 0.359375 -7.890625 L 6.625 -7.890625 L 6.625 0 Z M 5.625 -0.984375 L 5.625 -6.90625 L 1.34375 -6.90625 L 1.34375 -0.984375 Z \"/>\n",
       "</symbol>\n",
       "<symbol overflow=\"visible\" id=\"glyph1-1\">\n",
       "<path style=\"stroke:none;\" d=\"M 3.140625 -0.65625 C 3.585938 -0.65625 3.957031 -0.84375 4.25 -1.21875 C 4.550781 -1.59375 4.703125 -2.15625 4.703125 -2.90625 C 4.703125 -3.363281 4.640625 -3.757812 4.515625 -4.09375 C 4.265625 -4.726562 3.804688 -5.046875 3.140625 -5.046875 C 2.460938 -5.046875 2.003906 -4.710938 1.765625 -4.046875 C 1.628906 -3.679688 1.5625 -3.222656 1.5625 -2.671875 C 1.5625 -2.234375 1.628906 -1.859375 1.765625 -1.546875 C 2.015625 -0.953125 2.472656 -0.65625 3.140625 -0.65625 Z M 0.640625 -5.71875 L 1.578125 -5.71875 L 1.578125 -4.96875 C 1.765625 -5.226562 1.972656 -5.425781 2.203125 -5.5625 C 2.535156 -5.78125 2.921875 -5.890625 3.359375 -5.890625 C 4.003906 -5.890625 4.554688 -5.640625 5.015625 -5.140625 C 5.472656 -4.640625 5.703125 -3.925781 5.703125 -3 C 5.703125 -1.75 5.375 -0.851562 4.71875 -0.3125 C 4.300781 0.0195312 3.816406 0.1875 3.265625 0.1875 C 2.828125 0.1875 2.460938 0.09375 2.171875 -0.09375 C 2.003906 -0.195312 1.8125 -0.378906 1.59375 -0.640625 L 1.59375 2.296875 L 0.640625 2.296875 Z \"/>\n",
       "</symbol>\n",
       "<symbol overflow=\"visible\" id=\"glyph1-2\">\n",
       "<path style=\"stroke:none;\" d=\"M 0.734375 -5.75 L 1.65625 -5.75 L 1.65625 -4.765625 C 1.726562 -4.953125 1.910156 -5.179688 2.203125 -5.453125 C 2.492188 -5.734375 2.832031 -5.875 3.21875 -5.875 C 3.238281 -5.875 3.269531 -5.875 3.3125 -5.875 C 3.351562 -5.875 3.425781 -5.867188 3.53125 -5.859375 L 3.53125 -4.828125 C 3.476562 -4.835938 3.425781 -4.84375 3.375 -4.84375 C 3.320312 -4.851562 3.269531 -4.859375 3.21875 -4.859375 C 2.726562 -4.859375 2.351562 -4.703125 2.09375 -4.390625 C 1.832031 -4.078125 1.703125 -3.71875 1.703125 -3.3125 L 1.703125 0 L 0.734375 0 Z \"/>\n",
       "</symbol>\n",
       "<symbol overflow=\"visible\" id=\"glyph1-3\">\n",
       "<path style=\"stroke:none;\" d=\"M 0.703125 -5.71875 L 1.6875 -5.71875 L 1.6875 0 L 0.703125 0 Z M 0.703125 -7.890625 L 1.6875 -7.890625 L 1.6875 -6.796875 L 0.703125 -6.796875 Z \"/>\n",
       "</symbol>\n",
       "<symbol overflow=\"visible\" id=\"glyph1-4\">\n",
       "<path style=\"stroke:none;\" d=\"M 2.921875 -5.921875 C 3.578125 -5.921875 4.109375 -5.757812 4.515625 -5.4375 C 4.921875 -5.125 5.164062 -4.582031 5.25 -3.8125 L 4.296875 -3.8125 C 4.242188 -4.164062 4.113281 -4.457031 3.90625 -4.6875 C 3.707031 -4.925781 3.378906 -5.046875 2.921875 -5.046875 C 2.304688 -5.046875 1.867188 -4.75 1.609375 -4.15625 C 1.429688 -3.757812 1.34375 -3.273438 1.34375 -2.703125 C 1.34375 -2.128906 1.460938 -1.644531 1.703125 -1.25 C 1.953125 -0.851562 2.335938 -0.65625 2.859375 -0.65625 C 3.265625 -0.65625 3.582031 -0.773438 3.8125 -1.015625 C 4.050781 -1.265625 4.210938 -1.601562 4.296875 -2.03125 L 5.25 -2.03125 C 5.132812 -1.269531 4.863281 -0.710938 4.4375 -0.359375 C 4.007812 -0.00390625 3.457031 0.171875 2.78125 0.171875 C 2.03125 0.171875 1.429688 -0.101562 0.984375 -0.65625 C 0.535156 -1.207031 0.3125 -1.894531 0.3125 -2.71875 C 0.3125 -3.726562 0.554688 -4.515625 1.046875 -5.078125 C 1.535156 -5.640625 2.160156 -5.921875 2.921875 -5.921875 Z M 2.78125 -5.890625 Z \"/>\n",
       "</symbol>\n",
       "<symbol overflow=\"visible\" id=\"glyph1-5\">\n",
       "<path style=\"stroke:none;\" d=\"M 3.109375 -5.875 C 3.515625 -5.875 3.90625 -5.78125 4.28125 -5.59375 C 4.664062 -5.40625 4.960938 -5.15625 5.171875 -4.84375 C 5.359375 -4.5625 5.484375 -4.222656 5.546875 -3.828125 C 5.609375 -3.566406 5.640625 -3.144531 5.640625 -2.5625 L 1.421875 -2.5625 C 1.441406 -1.976562 1.578125 -1.507812 1.828125 -1.15625 C 2.085938 -0.8125 2.488281 -0.640625 3.03125 -0.640625 C 3.539062 -0.640625 3.945312 -0.804688 4.25 -1.140625 C 4.414062 -1.328125 4.535156 -1.550781 4.609375 -1.8125 L 5.5625 -1.8125 C 5.53125 -1.59375 5.441406 -1.351562 5.296875 -1.09375 C 5.160156 -0.832031 5.003906 -0.625 4.828125 -0.46875 C 4.535156 -0.175781 4.175781 0.0195312 3.75 0.125 C 3.507812 0.175781 3.242188 0.203125 2.953125 0.203125 C 2.234375 0.203125 1.625 -0.0546875 1.125 -0.578125 C 0.632812 -1.097656 0.390625 -1.828125 0.390625 -2.765625 C 0.390625 -3.691406 0.640625 -4.441406 1.140625 -5.015625 C 1.640625 -5.585938 2.296875 -5.875 3.109375 -5.875 Z M 4.640625 -3.328125 C 4.609375 -3.753906 4.519531 -4.09375 4.375 -4.34375 C 4.101562 -4.800781 3.660156 -5.03125 3.046875 -5.03125 C 2.597656 -5.03125 2.222656 -4.867188 1.921875 -4.546875 C 1.628906 -4.234375 1.472656 -3.828125 1.453125 -3.328125 Z M 3.015625 -5.890625 Z \"/>\n",
       "</symbol>\n",
       "<symbol overflow=\"visible\" id=\"glyph2-0\">\n",
       "<path style=\"stroke:none;\" d=\"M 0 -0.359375 L -7.890625 -0.359375 L -7.890625 -6.625 L 0 -6.625 Z M -0.984375 -5.625 L -6.90625 -5.625 L -6.90625 -1.34375 L -0.984375 -1.34375 Z \"/>\n",
       "</symbol>\n",
       "<symbol overflow=\"visible\" id=\"glyph2-1\">\n",
       "<path style=\"stroke:none;\" d=\"M -5.921875 -2.921875 C -5.921875 -3.578125 -5.757812 -4.109375 -5.4375 -4.515625 C -5.125 -4.921875 -4.582031 -5.164062 -3.8125 -5.25 L -3.8125 -4.296875 C -4.164062 -4.242188 -4.457031 -4.113281 -4.6875 -3.90625 C -4.925781 -3.707031 -5.046875 -3.378906 -5.046875 -2.921875 C -5.046875 -2.304688 -4.75 -1.867188 -4.15625 -1.609375 C -3.757812 -1.429688 -3.273438 -1.34375 -2.703125 -1.34375 C -2.128906 -1.34375 -1.644531 -1.460938 -1.25 -1.703125 C -0.851562 -1.953125 -0.65625 -2.335938 -0.65625 -2.859375 C -0.65625 -3.265625 -0.773438 -3.582031 -1.015625 -3.8125 C -1.265625 -4.050781 -1.601562 -4.210938 -2.03125 -4.296875 L -2.03125 -5.25 C -1.269531 -5.132812 -0.710938 -4.863281 -0.359375 -4.4375 C -0.00390625 -4.007812 0.171875 -3.457031 0.171875 -2.78125 C 0.171875 -2.03125 -0.101562 -1.429688 -0.65625 -0.984375 C -1.207031 -0.535156 -1.894531 -0.3125 -2.71875 -0.3125 C -3.726562 -0.3125 -4.515625 -0.554688 -5.078125 -1.046875 C -5.640625 -1.535156 -5.921875 -2.160156 -5.921875 -2.921875 Z M -5.890625 -2.78125 Z \"/>\n",
       "</symbol>\n",
       "<symbol overflow=\"visible\" id=\"glyph2-2\">\n",
       "<path style=\"stroke:none;\" d=\"M -0.625 -2.984375 C -0.625 -3.628906 -0.863281 -4.070312 -1.34375 -4.3125 C -1.832031 -4.550781 -2.375 -4.671875 -2.96875 -4.671875 C -3.507812 -4.671875 -3.945312 -4.582031 -4.28125 -4.40625 C -4.8125 -4.132812 -5.078125 -3.664062 -5.078125 -3 C -5.078125 -2.40625 -4.847656 -1.972656 -4.390625 -1.703125 C -3.941406 -1.441406 -3.398438 -1.3125 -2.765625 -1.3125 C -2.148438 -1.3125 -1.640625 -1.441406 -1.234375 -1.703125 C -0.828125 -1.972656 -0.625 -2.398438 -0.625 -2.984375 Z M -5.921875 -3.03125 C -5.921875 -3.769531 -5.671875 -4.394531 -5.171875 -4.90625 C -4.679688 -5.414062 -3.957031 -5.671875 -3 -5.671875 C -2.070312 -5.671875 -1.304688 -5.445312 -0.703125 -5 C -0.0976562 -4.550781 0.203125 -3.851562 0.203125 -2.90625 C 0.203125 -2.113281 -0.0625 -1.484375 -0.59375 -1.015625 C -1.125 -0.546875 -1.84375 -0.3125 -2.75 -0.3125 C -3.71875 -0.3125 -4.488281 -0.554688 -5.0625 -1.046875 C -5.632812 -1.535156 -5.921875 -2.195312 -5.921875 -3.03125 Z M -5.890625 -3 Z \"/>\n",
       "</symbol>\n",
       "<symbol overflow=\"visible\" id=\"glyph2-3\">\n",
       "<path style=\"stroke:none;\" d=\"M -5.75 -1.671875 L -1.9375 -1.671875 C -1.644531 -1.671875 -1.40625 -1.71875 -1.21875 -1.8125 C -0.875 -1.988281 -0.703125 -2.3125 -0.703125 -2.78125 C -0.703125 -3.445312 -1 -3.90625 -1.59375 -4.15625 C -1.914062 -4.28125 -2.359375 -4.34375 -2.921875 -4.34375 L -5.75 -4.34375 L -5.75 -5.3125 L 0 -5.3125 L 0 -4.40625 L -0.84375 -4.421875 C -0.625 -4.296875 -0.441406 -4.140625 -0.296875 -3.953125 C 0.00390625 -3.578125 0.15625 -3.128906 0.15625 -2.609375 C 0.15625 -1.785156 -0.117188 -1.222656 -0.671875 -0.921875 C -0.960938 -0.765625 -1.351562 -0.6875 -1.84375 -0.6875 L -5.75 -0.6875 Z M -5.890625 -3 Z \"/>\n",
       "</symbol>\n",
       "<symbol overflow=\"visible\" id=\"glyph2-4\">\n",
       "<path style=\"stroke:none;\" d=\"M -5.75 -0.703125 L -5.75 -1.625 L -4.9375 -1.625 C -5.269531 -1.894531 -5.507812 -2.179688 -5.65625 -2.484375 C -5.800781 -2.796875 -5.875 -3.132812 -5.875 -3.5 C -5.875 -4.320312 -5.59375 -4.875 -5.03125 -5.15625 C -4.71875 -5.3125 -4.269531 -5.390625 -3.6875 -5.390625 L 0 -5.390625 L 0 -4.421875 L -3.625 -4.421875 C -3.976562 -4.421875 -4.257812 -4.367188 -4.46875 -4.265625 C -4.832031 -4.085938 -5.015625 -3.773438 -5.015625 -3.328125 C -5.015625 -3.097656 -4.988281 -2.910156 -4.9375 -2.765625 C -4.863281 -2.492188 -4.707031 -2.257812 -4.46875 -2.0625 C -4.28125 -1.90625 -4.082031 -1.800781 -3.875 -1.75 C -3.675781 -1.695312 -3.390625 -1.671875 -3.015625 -1.671875 L 0 -1.671875 L 0 -0.703125 Z M -5.890625 -2.984375 Z \"/>\n",
       "</symbol>\n",
       "<symbol overflow=\"visible\" id=\"glyph2-5\">\n",
       "<path style=\"stroke:none;\" d=\"M -7.359375 -0.90625 L -7.359375 -1.875 L -5.75 -1.875 L -5.75 -2.796875 L -4.96875 -2.796875 L -4.96875 -1.875 L -1.203125 -1.875 C -1.003906 -1.875 -0.875 -1.941406 -0.8125 -2.078125 C -0.769531 -2.160156 -0.75 -2.285156 -0.75 -2.453125 C -0.75 -2.503906 -0.75 -2.554688 -0.75 -2.609375 C -0.75 -2.660156 -0.753906 -2.722656 -0.765625 -2.796875 L 0 -2.796875 C 0.03125 -2.679688 0.0507812 -2.5625 0.0625 -2.4375 C 0.0820312 -2.320312 0.09375 -2.195312 0.09375 -2.0625 C 0.09375 -1.613281 -0.0195312 -1.304688 -0.25 -1.140625 C -0.488281 -0.984375 -0.789062 -0.90625 -1.15625 -0.90625 L -4.96875 -0.90625 L -4.96875 -0.125 L -5.75 -0.125 L -5.75 -0.90625 Z \"/>\n",
       "</symbol>\n",
       "</g>\n",
       "<clipPath id=\"clip1\">\n",
       "  <path d=\"M 49.339844 5.480469 L 499 5.480469 L 499 473 L 49.339844 473 Z \"/>\n",
       "</clipPath>\n",
       "<clipPath id=\"clip2\">\n",
       "  <path d=\"M 49.339844 401 L 499 401 L 499 402 L 49.339844 402 Z \"/>\n",
       "</clipPath>\n",
       "<clipPath id=\"clip3\">\n",
       "  <path d=\"M 49.339844 300 L 499 300 L 499 302 L 49.339844 302 Z \"/>\n",
       "</clipPath>\n",
       "<clipPath id=\"clip4\">\n",
       "  <path d=\"M 49.339844 200 L 499 200 L 499 202 L 49.339844 202 Z \"/>\n",
       "</clipPath>\n",
       "<clipPath id=\"clip5\">\n",
       "  <path d=\"M 49.339844 100 L 499 100 L 499 102 L 49.339844 102 Z \"/>\n",
       "</clipPath>\n",
       "<clipPath id=\"clip6\">\n",
       "  <path d=\"M 108 5.480469 L 110 5.480469 L 110 473.8125 L 108 473.8125 Z \"/>\n",
       "</clipPath>\n",
       "<clipPath id=\"clip7\">\n",
       "  <path d=\"M 195 5.480469 L 196 5.480469 L 196 473.8125 L 195 473.8125 Z \"/>\n",
       "</clipPath>\n",
       "<clipPath id=\"clip8\">\n",
       "  <path d=\"M 282 5.480469 L 283 5.480469 L 283 473.8125 L 282 473.8125 Z \"/>\n",
       "</clipPath>\n",
       "<clipPath id=\"clip9\">\n",
       "  <path d=\"M 369 5.480469 L 370 5.480469 L 370 473.8125 L 369 473.8125 Z \"/>\n",
       "</clipPath>\n",
       "<clipPath id=\"clip10\">\n",
       "  <path d=\"M 456 5.480469 L 457 5.480469 L 457 473.8125 L 456 473.8125 Z \"/>\n",
       "</clipPath>\n",
       "<clipPath id=\"clip11\">\n",
       "  <path d=\"M 49.339844 451 L 499.519531 451 L 499.519531 453 L 49.339844 453 Z \"/>\n",
       "</clipPath>\n",
       "<clipPath id=\"clip12\">\n",
       "  <path d=\"M 49.339844 350 L 499.519531 350 L 499.519531 352 L 49.339844 352 Z \"/>\n",
       "</clipPath>\n",
       "<clipPath id=\"clip13\">\n",
       "  <path d=\"M 49.339844 250 L 499.519531 250 L 499.519531 252 L 49.339844 252 Z \"/>\n",
       "</clipPath>\n",
       "<clipPath id=\"clip14\">\n",
       "  <path d=\"M 49.339844 150 L 499.519531 150 L 499.519531 152 L 49.339844 152 Z \"/>\n",
       "</clipPath>\n",
       "<clipPath id=\"clip15\">\n",
       "  <path d=\"M 49.339844 50 L 499.519531 50 L 499.519531 52 L 49.339844 52 Z \"/>\n",
       "</clipPath>\n",
       "<clipPath id=\"clip16\">\n",
       "  <path d=\"M 64 5.480469 L 66 5.480469 L 66 473.8125 L 64 473.8125 Z \"/>\n",
       "</clipPath>\n",
       "<clipPath id=\"clip17\">\n",
       "  <path d=\"M 151 5.480469 L 153 5.480469 L 153 473.8125 L 151 473.8125 Z \"/>\n",
       "</clipPath>\n",
       "<clipPath id=\"clip18\">\n",
       "  <path d=\"M 238 5.480469 L 240 5.480469 L 240 473.8125 L 238 473.8125 Z \"/>\n",
       "</clipPath>\n",
       "<clipPath id=\"clip19\">\n",
       "  <path d=\"M 325 5.480469 L 327 5.480469 L 327 473.8125 L 325 473.8125 Z \"/>\n",
       "</clipPath>\n",
       "<clipPath id=\"clip20\">\n",
       "  <path d=\"M 412 5.480469 L 414 5.480469 L 414 473.8125 L 412 473.8125 Z \"/>\n",
       "</clipPath>\n",
       "</defs>\n",
       "<g id=\"surface1\">\n",
       "<rect x=\"0\" y=\"0\" width=\"504\" height=\"504\" style=\"fill:rgb(100%,100%,100%);fill-opacity:1;stroke:none;\"/>\n",
       "<rect x=\"0\" y=\"0\" width=\"504\" height=\"504\" style=\"fill:rgb(100%,100%,100%);fill-opacity:1;stroke:none;\"/>\n",
       "<path style=\"fill:none;stroke-width:1.066978;stroke-linecap:round;stroke-linejoin:round;stroke:rgb(100%,100%,100%);stroke-opacity:1;stroke-miterlimit:10;\" d=\"M 0 504 L 504 504 L 504 0 L 0 0 Z \"/>\n",
       "<g clip-path=\"url(#clip1)\" clip-rule=\"nonzero\">\n",
       "<path style=\" stroke:none;fill-rule:nonzero;fill:rgb(92.156863%,92.156863%,92.156863%);fill-opacity:1;\" d=\"M 49.339844 472.8125 L 498.519531 472.8125 L 498.519531 5.480469 L 49.339844 5.480469 Z \"/>\n",
       "</g>\n",
       "<g clip-path=\"url(#clip2)\" clip-rule=\"nonzero\">\n",
       "<path style=\"fill:none;stroke-width:0.533489;stroke-linecap:butt;stroke-linejoin:round;stroke:rgb(100%,100%,100%);stroke-opacity:1;stroke-miterlimit:10;\" d=\"M 49.339844 401.457031 L 498.519531 401.457031 \"/>\n",
       "</g>\n",
       "<g clip-path=\"url(#clip3)\" clip-rule=\"nonzero\">\n",
       "<path style=\"fill:none;stroke-width:0.533489;stroke-linecap:butt;stroke-linejoin:round;stroke:rgb(100%,100%,100%);stroke-opacity:1;stroke-miterlimit:10;\" d=\"M 49.339844 301.242188 L 498.519531 301.242188 \"/>\n",
       "</g>\n",
       "<g clip-path=\"url(#clip4)\" clip-rule=\"nonzero\">\n",
       "<path style=\"fill:none;stroke-width:0.533489;stroke-linecap:butt;stroke-linejoin:round;stroke:rgb(100%,100%,100%);stroke-opacity:1;stroke-miterlimit:10;\" d=\"M 49.339844 201.023438 L 498.519531 201.023438 \"/>\n",
       "</g>\n",
       "<g clip-path=\"url(#clip5)\" clip-rule=\"nonzero\">\n",
       "<path style=\"fill:none;stroke-width:0.533489;stroke-linecap:butt;stroke-linejoin:round;stroke:rgb(100%,100%,100%);stroke-opacity:1;stroke-miterlimit:10;\" d=\"M 49.339844 100.804688 L 498.519531 100.804688 \"/>\n",
       "</g>\n",
       "<g clip-path=\"url(#clip6)\" clip-rule=\"nonzero\">\n",
       "<path style=\"fill:none;stroke-width:0.533489;stroke-linecap:butt;stroke-linejoin:round;stroke:rgb(100%,100%,100%);stroke-opacity:1;stroke-miterlimit:10;\" d=\"M 108.851562 472.8125 L 108.851562 5.480469 \"/>\n",
       "</g>\n",
       "<g clip-path=\"url(#clip7)\" clip-rule=\"nonzero\">\n",
       "<path style=\"fill:none;stroke-width:0.533489;stroke-linecap:butt;stroke-linejoin:round;stroke:rgb(100%,100%,100%);stroke-opacity:1;stroke-miterlimit:10;\" d=\"M 195.734375 472.8125 L 195.734375 5.480469 \"/>\n",
       "</g>\n",
       "<g clip-path=\"url(#clip8)\" clip-rule=\"nonzero\">\n",
       "<path style=\"fill:none;stroke-width:0.533489;stroke-linecap:butt;stroke-linejoin:round;stroke:rgb(100%,100%,100%);stroke-opacity:1;stroke-miterlimit:10;\" d=\"M 282.617188 472.8125 L 282.617188 5.480469 \"/>\n",
       "</g>\n",
       "<g clip-path=\"url(#clip9)\" clip-rule=\"nonzero\">\n",
       "<path style=\"fill:none;stroke-width:0.533489;stroke-linecap:butt;stroke-linejoin:round;stroke:rgb(100%,100%,100%);stroke-opacity:1;stroke-miterlimit:10;\" d=\"M 369.5 472.8125 L 369.5 5.480469 \"/>\n",
       "</g>\n",
       "<g clip-path=\"url(#clip10)\" clip-rule=\"nonzero\">\n",
       "<path style=\"fill:none;stroke-width:0.533489;stroke-linecap:butt;stroke-linejoin:round;stroke:rgb(100%,100%,100%);stroke-opacity:1;stroke-miterlimit:10;\" d=\"M 456.382812 472.8125 L 456.382812 5.480469 \"/>\n",
       "</g>\n",
       "<g clip-path=\"url(#clip11)\" clip-rule=\"nonzero\">\n",
       "<path style=\"fill:none;stroke-width:1.066978;stroke-linecap:butt;stroke-linejoin:round;stroke:rgb(100%,100%,100%);stroke-opacity:1;stroke-miterlimit:10;\" d=\"M 49.339844 451.566406 L 498.519531 451.566406 \"/>\n",
       "</g>\n",
       "<g clip-path=\"url(#clip12)\" clip-rule=\"nonzero\">\n",
       "<path style=\"fill:none;stroke-width:1.066978;stroke-linecap:butt;stroke-linejoin:round;stroke:rgb(100%,100%,100%);stroke-opacity:1;stroke-miterlimit:10;\" d=\"M 49.339844 351.351562 L 498.519531 351.351562 \"/>\n",
       "</g>\n",
       "<g clip-path=\"url(#clip13)\" clip-rule=\"nonzero\">\n",
       "<path style=\"fill:none;stroke-width:1.066978;stroke-linecap:butt;stroke-linejoin:round;stroke:rgb(100%,100%,100%);stroke-opacity:1;stroke-miterlimit:10;\" d=\"M 49.339844 251.132812 L 498.519531 251.132812 \"/>\n",
       "</g>\n",
       "<g clip-path=\"url(#clip14)\" clip-rule=\"nonzero\">\n",
       "<path style=\"fill:none;stroke-width:1.066978;stroke-linecap:butt;stroke-linejoin:round;stroke:rgb(100%,100%,100%);stroke-opacity:1;stroke-miterlimit:10;\" d=\"M 49.339844 150.914062 L 498.519531 150.914062 \"/>\n",
       "</g>\n",
       "<g clip-path=\"url(#clip15)\" clip-rule=\"nonzero\">\n",
       "<path style=\"fill:none;stroke-width:1.066978;stroke-linecap:butt;stroke-linejoin:round;stroke:rgb(100%,100%,100%);stroke-opacity:1;stroke-miterlimit:10;\" d=\"M 49.339844 50.695312 L 498.519531 50.695312 \"/>\n",
       "</g>\n",
       "<g clip-path=\"url(#clip16)\" clip-rule=\"nonzero\">\n",
       "<path style=\"fill:none;stroke-width:1.066978;stroke-linecap:butt;stroke-linejoin:round;stroke:rgb(100%,100%,100%);stroke-opacity:1;stroke-miterlimit:10;\" d=\"M 65.414062 472.8125 L 65.414062 5.480469 \"/>\n",
       "</g>\n",
       "<g clip-path=\"url(#clip17)\" clip-rule=\"nonzero\">\n",
       "<path style=\"fill:none;stroke-width:1.066978;stroke-linecap:butt;stroke-linejoin:round;stroke:rgb(100%,100%,100%);stroke-opacity:1;stroke-miterlimit:10;\" d=\"M 152.292969 472.8125 L 152.292969 5.480469 \"/>\n",
       "</g>\n",
       "<g clip-path=\"url(#clip18)\" clip-rule=\"nonzero\">\n",
       "<path style=\"fill:none;stroke-width:1.066978;stroke-linecap:butt;stroke-linejoin:round;stroke:rgb(100%,100%,100%);stroke-opacity:1;stroke-miterlimit:10;\" d=\"M 239.175781 472.8125 L 239.175781 5.480469 \"/>\n",
       "</g>\n",
       "<g clip-path=\"url(#clip19)\" clip-rule=\"nonzero\">\n",
       "<path style=\"fill:none;stroke-width:1.066978;stroke-linecap:butt;stroke-linejoin:round;stroke:rgb(100%,100%,100%);stroke-opacity:1;stroke-miterlimit:10;\" d=\"M 326.058594 472.8125 L 326.058594 5.480469 \"/>\n",
       "</g>\n",
       "<g clip-path=\"url(#clip20)\" clip-rule=\"nonzero\">\n",
       "<path style=\"fill:none;stroke-width:1.066978;stroke-linecap:butt;stroke-linejoin:round;stroke:rgb(100%,100%,100%);stroke-opacity:1;stroke-miterlimit:10;\" d=\"M 412.941406 472.8125 L 412.941406 5.480469 \"/>\n",
       "</g>\n",
       "<path style=\" stroke:none;fill-rule:nonzero;fill:rgb(34.901961%,34.901961%,34.901961%);fill-opacity:1;\" d=\"M 69.757812 451.566406 L 78.445312 451.566406 L 78.445312 346.617188 L 69.757812 346.617188 Z \"/>\n",
       "<path style=\" stroke:none;fill-rule:nonzero;fill:rgb(34.901961%,34.901961%,34.901961%);fill-opacity:1;\" d=\"M 78.445312 451.566406 L 87.132812 451.566406 L 87.132812 26.71875 L 78.445312 26.71875 Z \"/>\n",
       "<path style=\" stroke:none;fill-rule:nonzero;fill:rgb(34.901961%,34.901961%,34.901961%);fill-opacity:1;\" d=\"M 87.132812 451.566406 L 95.820312 451.566406 L 95.820312 222.988281 L 87.132812 222.988281 Z \"/>\n",
       "<path style=\" stroke:none;fill-rule:nonzero;fill:rgb(34.901961%,34.901961%,34.901961%);fill-opacity:1;\" d=\"M 95.820312 451.566406 L 104.507812 451.566406 L 104.507812 331.785156 L 95.820312 331.785156 Z \"/>\n",
       "<path style=\" stroke:none;fill-rule:nonzero;fill:rgb(34.901961%,34.901961%,34.901961%);fill-opacity:1;\" d=\"M 104.507812 451.566406 L 113.195312 451.566406 L 113.195312 323.6875 L 104.507812 323.6875 Z \"/>\n",
       "<path style=\" stroke:none;fill-rule:nonzero;fill:rgb(34.901961%,34.901961%,34.901961%);fill-opacity:1;\" d=\"M 113.199219 451.566406 L 121.886719 451.566406 L 121.886719 344.574219 L 113.199219 344.574219 Z \"/>\n",
       "<path style=\" stroke:none;fill-rule:nonzero;fill:rgb(34.901961%,34.901961%,34.901961%);fill-opacity:1;\" d=\"M 121.886719 451.566406 L 130.574219 451.566406 L 130.574219 360.726562 L 121.886719 360.726562 Z \"/>\n",
       "<path style=\" stroke:none;fill-rule:nonzero;fill:rgb(34.901961%,34.901961%,34.901961%);fill-opacity:1;\" d=\"M 130.574219 451.566406 L 139.261719 451.566406 L 139.261719 380.25 L 130.574219 380.25 Z \"/>\n",
       "<path style=\" stroke:none;fill-rule:nonzero;fill:rgb(34.901961%,34.901961%,34.901961%);fill-opacity:1;\" d=\"M 139.261719 451.566406 L 147.949219 451.566406 L 147.949219 386.824219 L 139.261719 386.824219 Z \"/>\n",
       "<path style=\" stroke:none;fill-rule:nonzero;fill:rgb(34.901961%,34.901961%,34.901961%);fill-opacity:1;\" d=\"M 147.949219 451.566406 L 156.636719 451.566406 L 156.636719 382.496094 L 147.949219 382.496094 Z \"/>\n",
       "<path style=\" stroke:none;fill-rule:nonzero;fill:rgb(34.901961%,34.901961%,34.901961%);fill-opacity:1;\" d=\"M 156.636719 451.566406 L 165.324219 451.566406 L 165.324219 370.75 L 156.636719 370.75 Z \"/>\n",
       "<path style=\" stroke:none;fill-rule:nonzero;fill:rgb(34.901961%,34.901961%,34.901961%);fill-opacity:1;\" d=\"M 165.328125 451.566406 L 174.015625 451.566406 L 174.015625 380.410156 L 165.328125 380.410156 Z \"/>\n",
       "<path style=\" stroke:none;fill-rule:nonzero;fill:rgb(34.901961%,34.901961%,34.901961%);fill-opacity:1;\" d=\"M 174.015625 451.566406 L 182.703125 451.566406 L 182.703125 390.273438 L 174.015625 390.273438 Z \"/>\n",
       "<path style=\" stroke:none;fill-rule:nonzero;fill:rgb(34.901961%,34.901961%,34.901961%);fill-opacity:1;\" d=\"M 182.703125 451.566406 L 191.390625 451.566406 L 191.390625 403.460938 L 182.703125 403.460938 Z \"/>\n",
       "<path style=\" stroke:none;fill-rule:nonzero;fill:rgb(34.901961%,34.901961%,34.901961%);fill-opacity:1;\" d=\"M 191.390625 451.566406 L 200.078125 451.566406 L 200.078125 409.835938 L 191.390625 409.835938 Z \"/>\n",
       "<path style=\" stroke:none;fill-rule:nonzero;fill:rgb(34.901961%,34.901961%,34.901961%);fill-opacity:1;\" d=\"M 200.078125 451.566406 L 208.765625 451.566406 L 208.765625 413.203125 L 200.078125 413.203125 Z \"/>\n",
       "<path style=\" stroke:none;fill-rule:nonzero;fill:rgb(34.901961%,34.901961%,34.901961%);fill-opacity:1;\" d=\"M 208.769531 451.566406 L 217.457031 451.566406 L 217.457031 417.050781 L 208.769531 417.050781 Z \"/>\n",
       "<path style=\" stroke:none;fill-rule:nonzero;fill:rgb(34.901961%,34.901961%,34.901961%);fill-opacity:1;\" d=\"M 217.457031 451.566406 L 226.144531 451.566406 L 226.144531 422.464844 L 217.457031 422.464844 Z \"/>\n",
       "<path style=\" stroke:none;fill-rule:nonzero;fill:rgb(34.901961%,34.901961%,34.901961%);fill-opacity:1;\" d=\"M 226.144531 451.566406 L 234.832031 451.566406 L 234.832031 424.425781 L 226.144531 424.425781 Z \"/>\n",
       "<path style=\" stroke:none;fill-rule:nonzero;fill:rgb(34.901961%,34.901961%,34.901961%);fill-opacity:1;\" d=\"M 234.832031 451.566406 L 243.519531 451.566406 L 243.519531 427.996094 L 234.832031 427.996094 Z \"/>\n",
       "<path style=\" stroke:none;fill-rule:nonzero;fill:rgb(34.901961%,34.901961%,34.901961%);fill-opacity:1;\" d=\"M 243.519531 451.566406 L 252.207031 451.566406 L 252.207031 433.328125 L 243.519531 433.328125 Z \"/>\n",
       "<path style=\" stroke:none;fill-rule:nonzero;fill:rgb(34.901961%,34.901961%,34.901961%);fill-opacity:1;\" d=\"M 252.210938 451.566406 L 260.898438 451.566406 L 260.898438 429.199219 L 252.210938 429.199219 Z \"/>\n",
       "<path style=\" stroke:none;fill-rule:nonzero;fill:rgb(34.901961%,34.901961%,34.901961%);fill-opacity:1;\" d=\"M 260.898438 451.566406 L 269.585938 451.566406 L 269.585938 432.324219 L 260.898438 432.324219 Z \"/>\n",
       "<path style=\" stroke:none;fill-rule:nonzero;fill:rgb(34.901961%,34.901961%,34.901961%);fill-opacity:1;\" d=\"M 269.585938 451.566406 L 278.273438 451.566406 L 278.273438 434.089844 L 269.585938 434.089844 Z \"/>\n",
       "<path style=\" stroke:none;fill-rule:nonzero;fill:rgb(34.901961%,34.901961%,34.901961%);fill-opacity:1;\" d=\"M 278.273438 451.566406 L 286.960938 451.566406 L 286.960938 435.128906 L 278.273438 435.128906 Z \"/>\n",
       "<path style=\" stroke:none;fill-rule:nonzero;fill:rgb(34.901961%,34.901961%,34.901961%);fill-opacity:1;\" d=\"M 286.960938 451.566406 L 295.648438 451.566406 L 295.648438 437.175781 L 286.960938 437.175781 Z \"/>\n",
       "<path style=\" stroke:none;fill-rule:nonzero;fill:rgb(34.901961%,34.901961%,34.901961%);fill-opacity:1;\" d=\"M 295.648438 451.566406 L 304.335938 451.566406 L 304.335938 437.175781 L 295.648438 437.175781 Z \"/>\n",
       "<path style=\" stroke:none;fill-rule:nonzero;fill:rgb(34.901961%,34.901961%,34.901961%);fill-opacity:1;\" d=\"M 304.339844 451.566406 L 313.027344 451.566406 L 313.027344 436.171875 L 304.339844 436.171875 Z \"/>\n",
       "<path style=\" stroke:none;fill-rule:nonzero;fill:rgb(34.901961%,34.901961%,34.901961%);fill-opacity:1;\" d=\"M 313.027344 451.566406 L 321.714844 451.566406 L 321.714844 438.859375 L 313.027344 438.859375 Z \"/>\n",
       "<path style=\" stroke:none;fill-rule:nonzero;fill:rgb(34.901961%,34.901961%,34.901961%);fill-opacity:1;\" d=\"M 321.714844 451.566406 L 330.402344 451.566406 L 330.402344 440.382812 L 321.714844 440.382812 Z \"/>\n",
       "<path style=\" stroke:none;fill-rule:nonzero;fill:rgb(34.901961%,34.901961%,34.901961%);fill-opacity:1;\" d=\"M 330.402344 451.566406 L 339.089844 451.566406 L 339.089844 440.542969 L 330.402344 440.542969 Z \"/>\n",
       "<path style=\" stroke:none;fill-rule:nonzero;fill:rgb(34.901961%,34.901961%,34.901961%);fill-opacity:1;\" d=\"M 339.089844 451.566406 L 347.777344 451.566406 L 347.777344 439.980469 L 339.089844 439.980469 Z \"/>\n",
       "<path style=\" stroke:none;fill-rule:nonzero;fill:rgb(34.901961%,34.901961%,34.901961%);fill-opacity:1;\" d=\"M 347.78125 451.566406 L 356.46875 451.566406 L 356.46875 441.382812 L 347.78125 441.382812 Z \"/>\n",
       "<path style=\" stroke:none;fill-rule:nonzero;fill:rgb(34.901961%,34.901961%,34.901961%);fill-opacity:1;\" d=\"M 356.46875 451.566406 L 365.15625 451.566406 L 365.15625 442.425781 L 356.46875 442.425781 Z \"/>\n",
       "<path style=\" stroke:none;fill-rule:nonzero;fill:rgb(34.901961%,34.901961%,34.901961%);fill-opacity:1;\" d=\"M 365.15625 451.566406 L 373.84375 451.566406 L 373.84375 442.425781 L 365.15625 442.425781 Z \"/>\n",
       "<path style=\" stroke:none;fill-rule:nonzero;fill:rgb(34.901961%,34.901961%,34.901961%);fill-opacity:1;\" d=\"M 373.84375 451.566406 L 382.53125 451.566406 L 382.53125 442.226562 L 373.84375 442.226562 Z \"/>\n",
       "<path style=\" stroke:none;fill-rule:nonzero;fill:rgb(34.901961%,34.901961%,34.901961%);fill-opacity:1;\" d=\"M 382.53125 451.566406 L 391.21875 451.566406 L 391.21875 444.230469 L 382.53125 444.230469 Z \"/>\n",
       "<path style=\" stroke:none;fill-rule:nonzero;fill:rgb(34.901961%,34.901961%,34.901961%);fill-opacity:1;\" d=\"M 391.222656 451.566406 L 399.910156 451.566406 L 399.910156 443.550781 L 391.222656 443.550781 Z \"/>\n",
       "<path style=\" stroke:none;fill-rule:nonzero;fill:rgb(34.901961%,34.901961%,34.901961%);fill-opacity:1;\" d=\"M 399.910156 451.566406 L 408.597656 451.566406 L 408.597656 444.472656 L 399.910156 444.472656 Z \"/>\n",
       "<path style=\" stroke:none;fill-rule:nonzero;fill:rgb(34.901961%,34.901961%,34.901961%);fill-opacity:1;\" d=\"M 408.597656 451.566406 L 417.285156 451.566406 L 417.285156 442.949219 L 408.597656 442.949219 Z \"/>\n",
       "<path style=\" stroke:none;fill-rule:nonzero;fill:rgb(34.901961%,34.901961%,34.901961%);fill-opacity:1;\" d=\"M 417.285156 451.566406 L 425.972656 451.566406 L 425.972656 444.632812 L 417.285156 444.632812 Z \"/>\n",
       "<path style=\" stroke:none;fill-rule:nonzero;fill:rgb(34.901961%,34.901961%,34.901961%);fill-opacity:1;\" d=\"M 425.972656 451.566406 L 434.660156 451.566406 L 434.660156 444.75 L 425.972656 444.75 Z \"/>\n",
       "<path style=\" stroke:none;fill-rule:nonzero;fill:rgb(34.901961%,34.901961%,34.901961%);fill-opacity:1;\" d=\"M 434.660156 451.566406 L 443.347656 451.566406 L 443.347656 443.871094 L 434.660156 443.871094 Z \"/>\n",
       "<path style=\" stroke:none;fill-rule:nonzero;fill:rgb(34.901961%,34.901961%,34.901961%);fill-opacity:1;\" d=\"M 443.351562 451.566406 L 452.039062 451.566406 L 452.039062 445.714844 L 443.351562 445.714844 Z \"/>\n",
       "<path style=\" stroke:none;fill-rule:nonzero;fill:rgb(34.901961%,34.901961%,34.901961%);fill-opacity:1;\" d=\"M 452.039062 451.566406 L 460.726562 451.566406 L 460.726562 445.472656 L 452.039062 445.472656 Z \"/>\n",
       "<path style=\" stroke:none;fill-rule:nonzero;fill:rgb(34.901961%,34.901961%,34.901961%);fill-opacity:1;\" d=\"M 460.726562 451.566406 L 469.414062 451.566406 L 469.414062 444.910156 L 460.726562 444.910156 Z \"/>\n",
       "<path style=\" stroke:none;fill-rule:nonzero;fill:rgb(34.901961%,34.901961%,34.901961%);fill-opacity:1;\" d=\"M 469.414062 451.566406 L 478.101562 451.566406 L 478.101562 447.398438 L 469.414062 447.398438 Z \"/>\n",
       "<g style=\"fill:rgb(30.196078%,30.196078%,30.196078%);fill-opacity:1;\">\n",
       "  <use xlink:href=\"#glyph0-1\" x=\"39.515625\" y=\"454.722656\"/>\n",
       "</g>\n",
       "<g style=\"fill:rgb(30.196078%,30.196078%,30.196078%);fill-opacity:1;\">\n",
       "  <use xlink:href=\"#glyph0-2\" x=\"24.835938\" y=\"354.507812\"/>\n",
       "  <use xlink:href=\"#glyph0-3\" x=\"29.728348\" y=\"354.507812\"/>\n",
       "  <use xlink:href=\"#glyph0-1\" x=\"34.620758\" y=\"354.507812\"/>\n",
       "  <use xlink:href=\"#glyph0-1\" x=\"39.513168\" y=\"354.507812\"/>\n",
       "</g>\n",
       "<g style=\"fill:rgb(30.196078%,30.196078%,30.196078%);fill-opacity:1;\">\n",
       "  <use xlink:href=\"#glyph0-3\" x=\"24.835938\" y=\"254.289062\"/>\n",
       "  <use xlink:href=\"#glyph0-1\" x=\"29.728348\" y=\"254.289062\"/>\n",
       "  <use xlink:href=\"#glyph0-1\" x=\"34.620758\" y=\"254.289062\"/>\n",
       "  <use xlink:href=\"#glyph0-1\" x=\"39.513168\" y=\"254.289062\"/>\n",
       "</g>\n",
       "<g style=\"fill:rgb(30.196078%,30.196078%,30.196078%);fill-opacity:1;\">\n",
       "  <use xlink:href=\"#glyph0-4\" x=\"24.835938\" y=\"154.070312\"/>\n",
       "  <use xlink:href=\"#glyph0-3\" x=\"29.728348\" y=\"154.070312\"/>\n",
       "  <use xlink:href=\"#glyph0-1\" x=\"34.620758\" y=\"154.070312\"/>\n",
       "  <use xlink:href=\"#glyph0-1\" x=\"39.513168\" y=\"154.070312\"/>\n",
       "</g>\n",
       "<g style=\"fill:rgb(30.196078%,30.196078%,30.196078%);fill-opacity:1;\">\n",
       "  <use xlink:href=\"#glyph0-5\" x=\"19.945312\" y=\"53.851562\"/>\n",
       "  <use xlink:href=\"#glyph0-1\" x=\"24.837723\" y=\"53.851562\"/>\n",
       "  <use xlink:href=\"#glyph0-1\" x=\"29.730133\" y=\"53.851562\"/>\n",
       "  <use xlink:href=\"#glyph0-1\" x=\"34.622543\" y=\"53.851562\"/>\n",
       "  <use xlink:href=\"#glyph0-1\" x=\"39.514954\" y=\"53.851562\"/>\n",
       "</g>\n",
       "<path style=\"fill:none;stroke-width:1.066978;stroke-linecap:butt;stroke-linejoin:round;stroke:rgb(20%,20%,20%);stroke-opacity:1;stroke-miterlimit:10;\" d=\"M 46.597656 451.566406 L 49.339844 451.566406 \"/>\n",
       "<path style=\"fill:none;stroke-width:1.066978;stroke-linecap:butt;stroke-linejoin:round;stroke:rgb(20%,20%,20%);stroke-opacity:1;stroke-miterlimit:10;\" d=\"M 46.597656 351.351562 L 49.339844 351.351562 \"/>\n",
       "<path style=\"fill:none;stroke-width:1.066978;stroke-linecap:butt;stroke-linejoin:round;stroke:rgb(20%,20%,20%);stroke-opacity:1;stroke-miterlimit:10;\" d=\"M 46.597656 251.132812 L 49.339844 251.132812 \"/>\n",
       "<path style=\"fill:none;stroke-width:1.066978;stroke-linecap:butt;stroke-linejoin:round;stroke:rgb(20%,20%,20%);stroke-opacity:1;stroke-miterlimit:10;\" d=\"M 46.597656 150.914062 L 49.339844 150.914062 \"/>\n",
       "<path style=\"fill:none;stroke-width:1.066978;stroke-linecap:butt;stroke-linejoin:round;stroke:rgb(20%,20%,20%);stroke-opacity:1;stroke-miterlimit:10;\" d=\"M 46.597656 50.695312 L 49.339844 50.695312 \"/>\n",
       "<path style=\"fill:none;stroke-width:1.066978;stroke-linecap:butt;stroke-linejoin:round;stroke:rgb(20%,20%,20%);stroke-opacity:1;stroke-miterlimit:10;\" d=\"M 65.414062 475.550781 L 65.414062 472.8125 \"/>\n",
       "<path style=\"fill:none;stroke-width:1.066978;stroke-linecap:butt;stroke-linejoin:round;stroke:rgb(20%,20%,20%);stroke-opacity:1;stroke-miterlimit:10;\" d=\"M 152.292969 475.550781 L 152.292969 472.8125 \"/>\n",
       "<path style=\"fill:none;stroke-width:1.066978;stroke-linecap:butt;stroke-linejoin:round;stroke:rgb(20%,20%,20%);stroke-opacity:1;stroke-miterlimit:10;\" d=\"M 239.175781 475.550781 L 239.175781 472.8125 \"/>\n",
       "<path style=\"fill:none;stroke-width:1.066978;stroke-linecap:butt;stroke-linejoin:round;stroke:rgb(20%,20%,20%);stroke-opacity:1;stroke-miterlimit:10;\" d=\"M 326.058594 475.550781 L 326.058594 472.8125 \"/>\n",
       "<path style=\"fill:none;stroke-width:1.066978;stroke-linecap:butt;stroke-linejoin:round;stroke:rgb(20%,20%,20%);stroke-opacity:1;stroke-miterlimit:10;\" d=\"M 412.941406 475.550781 L 412.941406 472.8125 \"/>\n",
       "<g style=\"fill:rgb(30.196078%,30.196078%,30.196078%);fill-opacity:1;\">\n",
       "  <use xlink:href=\"#glyph0-6\" x=\"61.503906\" y=\"484.054688\"/>\n",
       "  <use xlink:href=\"#glyph0-5\" x=\"64.433334\" y=\"484.054688\"/>\n",
       "</g>\n",
       "<g style=\"fill:rgb(30.196078%,30.196078%,30.196078%);fill-opacity:1;\">\n",
       "  <use xlink:href=\"#glyph0-1\" x=\"149.847656\" y=\"484.054688\"/>\n",
       "</g>\n",
       "<g style=\"fill:rgb(30.196078%,30.196078%,30.196078%);fill-opacity:1;\">\n",
       "  <use xlink:href=\"#glyph0-5\" x=\"236.730469\" y=\"484.054688\"/>\n",
       "</g>\n",
       "<g style=\"fill:rgb(30.196078%,30.196078%,30.196078%);fill-opacity:1;\">\n",
       "  <use xlink:href=\"#glyph0-2\" x=\"323.613281\" y=\"484.054688\"/>\n",
       "</g>\n",
       "<g style=\"fill:rgb(30.196078%,30.196078%,30.196078%);fill-opacity:1;\">\n",
       "  <use xlink:href=\"#glyph0-7\" x=\"410.496094\" y=\"484.054688\"/>\n",
       "</g>\n",
       "<g style=\"fill:rgb(0%,0%,0%);fill-opacity:1;\">\n",
       "  <use xlink:href=\"#glyph1-1\" x=\"262.007812\" y=\"496.328125\"/>\n",
       "  <use xlink:href=\"#glyph1-2\" x=\"268.125488\" y=\"496.328125\"/>\n",
       "  <use xlink:href=\"#glyph1-3\" x=\"271.788574\" y=\"496.328125\"/>\n",
       "  <use xlink:href=\"#glyph1-4\" x=\"274.232422\" y=\"496.328125\"/>\n",
       "  <use xlink:href=\"#glyph1-5\" x=\"279.732422\" y=\"496.328125\"/>\n",
       "</g>\n",
       "<g style=\"fill:rgb(0%,0%,0%);fill-opacity:1;\">\n",
       "  <use xlink:href=\"#glyph2-1\" x=\"15.5625\" y=\"252.597656\"/>\n",
       "  <use xlink:href=\"#glyph2-2\" x=\"15.5625\" y=\"247.097656\"/>\n",
       "  <use xlink:href=\"#glyph2-3\" x=\"15.5625\" y=\"240.97998\"/>\n",
       "  <use xlink:href=\"#glyph2-4\" x=\"15.5625\" y=\"234.862305\"/>\n",
       "  <use xlink:href=\"#glyph2-5\" x=\"15.5625\" y=\"228.744629\"/>\n",
       "</g>\n",
       "</g>\n",
       "</svg>\n"
      ],
      "text/plain": [
       "plot without title"
      ]
     },
     "metadata": {
      "image/svg+xml": {
       "isolated": true
      }
     },
     "output_type": "display_data"
    }
   ],
   "source": [
    "# normalize the numeric numbers (non bit fields) so they are around the same scale\n",
    "library(graphics)\n",
    "\n",
    "normalize <- function(x) {\n",
    "    (x - mean(x)) / sd(x)\n",
    "}\n",
    "\n",
    "diamonds <- mutate(diamonds,\n",
    "                  bias = 1,\n",
    "                  carat = normalize(carat),\n",
    "                  depth = normalize(depth),\n",
    "                  table = normalize(table),\n",
    "                  x = normalize(x),\n",
    "                  y = normalize(y),\n",
    "                  z = normalize(z),\n",
    "                  price = normalize(price)\n",
    "            )\n",
    "\n",
    "summary(select(diamonds, carat, depth, table, price))\n",
    "\n",
    "qplot(price, data = diamonds, geom = \"histogram\", binwidth = 0.1) "
   ]
  },
  {
   "cell_type": "code",
   "execution_count": 7,
   "metadata": {
    "collapsed": false
   },
   "outputs": [
    {
     "data": {
      "text/html": [
       "<table>\n",
       "<thead><tr><th></th><th scope=col>carat</th><th scope=col>depth</th><th scope=col>table</th><th scope=col>price</th><th scope=col>x</th><th scope=col>y</th><th scope=col>z</th><th scope=col>ideal_cut</th><th scope=col>D</th><th scope=col>E</th><th scope=col>ellip.h</th><th scope=col>J</th><th scope=col>I1</th><th scope=col>IF</th><th scope=col>SI1</th><th scope=col>SI2</th><th scope=col>VS1</th><th scope=col>VS2</th><th scope=col>VVS1</th><th scope=col>VVS2</th><th scope=col>bias</th></tr></thead>\n",
       "<tbody>\n",
       "\t<tr><th scope=row>1</th><td>1.924132</td><td>1.082348</td><td>-1.99472</td><td>2.310901</td><td>1.612503</td><td>1.624567</td><td>1.773088</td><td>0</td><td>0</td><td>0</td><td>⋯</td><td>0</td><td>0</td><td>0</td><td>1</td><td>0</td><td>0</td><td>0</td><td>0</td><td>0</td><td>1</td></tr>\n",
       "\t<tr><th scope=row>2</th><td>-0.7762258</td><td>1.15215</td><td>-0.6521325</td><td>-0.7617109</td><td>-0.8122563</td><td>-0.8182275</td><td>-0.6925529</td><td>0</td><td>0</td><td>1</td><td>⋯</td><td>0</td><td>0</td><td>0</td><td>1</td><td>0</td><td>0</td><td>0</td><td>0</td><td>0</td><td>1</td></tr>\n",
       "\t<tr><th scope=row>3</th><td>1.670974</td><td>0.03531645</td><td>-0.2046032</td><td>2.03392</td><td>1.505529</td><td>1.537011</td><td>1.518022</td><td>1</td><td>0</td><td>0</td><td>⋯</td><td>0</td><td>0</td><td>0</td><td>0</td><td>0</td><td>1</td><td>0</td><td>0</td><td>0</td><td>1</td></tr>\n",
       "\t<tr><th scope=row>4</th><td>1.059174</td><td>0.1051186</td><td>-0.2046032</td><td>0.3098681</td><td>1.140032</td><td>1.064213</td><td>1.107082</td><td>1</td><td>0</td><td>0</td><td>⋯</td><td>0</td><td>0</td><td>0</td><td>0</td><td>1</td><td>0</td><td>0</td><td>0</td><td>0</td><td>1</td></tr>\n",
       "\t<tr><th scope=row>5</th><td>-1.050481</td><td>-0.243892</td><td>-0.6521325</td><td>-0.7479245</td><td>-1.24907</td><td>-1.194715</td><td>-1.231026</td><td>1</td><td>0</td><td>1</td><td>⋯</td><td>0</td><td>0</td><td>0</td><td>0</td><td>0</td><td>0</td><td>0</td><td>0</td><td>1</td><td>1</td></tr>\n",
       "\t<tr><th scope=row>6</th><td>-1.050481</td><td>0.8729419</td><td>-1.547191</td><td>-0.7657215</td><td>-1.275813</td><td>-1.282271</td><td>-1.188515</td><td>1</td><td>0</td><td>0</td><td>⋯</td><td>0</td><td>0</td><td>0</td><td>0</td><td>0</td><td>0</td><td>0</td><td>1</td><td>0</td><td>1</td></tr>\n",
       "</tbody>\n",
       "</table>\n"
      ],
      "text/latex": [
       "\\begin{tabular}{r|llllllllllllllllllllllll}\n",
       "  & carat & depth & table & price & x & y & z & ideal_cut & D & E & ellip.h & J & I1 & IF & SI1 & SI2 & VS1 & VS2 & VVS1 & VVS2 & bias\\\\\n",
       "\\hline\n",
       "\t1 & 1.924132 & 1.082348 & -1.99472 & 2.310901 & 1.612503 & 1.624567 & 1.773088 & 0 & 0 & 0 & ⋯ & 0 & 0 & 0 & 1 & 0 & 0 & 0 & 0 & 0 & 1\\\\\n",
       "\t2 & -0.7762258 & 1.15215 & -0.6521325 & -0.7617109 & -0.8122563 & -0.8182275 & -0.6925529 & 0 & 0 & 1 & ⋯ & 0 & 0 & 0 & 1 & 0 & 0 & 0 & 0 & 0 & 1\\\\\n",
       "\t3 & 1.670974 & 0.03531645 & -0.2046032 & 2.03392 & 1.505529 & 1.537011 & 1.518022 & 1 & 0 & 0 & ⋯ & 0 & 0 & 0 & 0 & 0 & 1 & 0 & 0 & 0 & 1\\\\\n",
       "\t4 & 1.059174 & 0.1051186 & -0.2046032 & 0.3098681 & 1.140032 & 1.064213 & 1.107082 & 1 & 0 & 0 & ⋯ & 0 & 0 & 0 & 0 & 1 & 0 & 0 & 0 & 0 & 1\\\\\n",
       "\t5 & -1.050481 & -0.243892 & -0.6521325 & -0.7479245 & -1.24907 & -1.194715 & -1.231026 & 1 & 0 & 1 & ⋯ & 0 & 0 & 0 & 0 & 0 & 0 & 0 & 0 & 1 & 1\\\\\n",
       "\t6 & -1.050481 & 0.8729419 & -1.547191 & -0.7657215 & -1.275813 & -1.282271 & -1.188515 & 1 & 0 & 0 & ⋯ & 0 & 0 & 0 & 0 & 0 & 0 & 0 & 1 & 0 & 1\\\\\n",
       "\\end{tabular}\n"
      ],
      "text/plain": [
       "Source: local data frame [6 x 24]\n",
       "\n",
       "       carat       depth      table      price          x          y          z\n",
       "       (dbl)       (dbl)      (dbl)      (dbl)      (dbl)      (dbl)      (dbl)\n",
       "1  1.9241321  1.08234820 -1.9947204  2.3109010  1.6125032  1.6245668  1.7730881\n",
       "2 -0.7762258  1.15215032 -0.6521325 -0.7617109 -0.8122563 -0.8182275 -0.6925529\n",
       "3  1.6709736  0.03531645 -0.2046032  2.0339198  1.5055285  1.5370114  1.5180218\n",
       "4  1.0591737  0.10511857 -0.2046032  0.3098681  1.1400317  1.0642125  1.1070816\n",
       "5 -1.0504809 -0.24389201 -0.6521325 -0.7479245 -1.2490696 -1.1947155 -1.2310262\n",
       "6 -1.0504809  0.87294185 -1.5471911 -0.7657215 -1.2758132 -1.2822708 -1.1885152\n",
       "Variables not shown: ideal_cut (dbl), D (dbl), E (dbl), F (dbl), G (dbl), H\n",
       "  (dbl), I (dbl), J (dbl), I1 (dbl), IF (dbl), SI1 (dbl), SI2 (dbl), VS1 (dbl),\n",
       "  VS2 (dbl), VVS1 (dbl), VVS2 (dbl), bias (dbl)"
      ]
     },
     "execution_count": 7,
     "metadata": {},
     "output_type": "execute_result"
    }
   ],
   "source": [
    "# randomize the order\n",
    "\n",
    "n <- nrow(diamonds)\n",
    "diamonds <- diamonds[sample(n), ]\n",
    "\n",
    "head(diamonds)"
   ]
  },
  {
   "cell_type": "code",
   "execution_count": 8,
   "metadata": {
    "collapsed": false
   },
   "outputs": [
    {
     "data": {
      "text/html": [
       "<ol class=list-inline>\n",
       "\t<li>43152</li>\n",
       "\t<li>24</li>\n",
       "</ol>\n"
      ],
      "text/latex": [
       "\\begin{enumerate*}\n",
       "\\item 43152\n",
       "\\item 24\n",
       "\\end{enumerate*}\n"
      ],
      "text/markdown": [
       "1. 43152\n",
       "2. 24\n",
       "\n",
       "\n"
      ],
      "text/plain": [
       "[1] 43152    24"
      ]
     },
     "execution_count": 8,
     "metadata": {},
     "output_type": "execute_result"
    },
    {
     "data": {
      "text/html": [
       "<ol class=list-inline>\n",
       "\t<li>10788</li>\n",
       "\t<li>24</li>\n",
       "</ol>\n"
      ],
      "text/latex": [
       "\\begin{enumerate*}\n",
       "\\item 10788\n",
       "\\item 24\n",
       "\\end{enumerate*}\n"
      ],
      "text/markdown": [
       "1. 10788\n",
       "2. 24\n",
       "\n",
       "\n"
      ],
      "text/plain": [
       "[1] 10788    24"
      ]
     },
     "execution_count": 8,
     "metadata": {},
     "output_type": "execute_result"
    }
   ],
   "source": [
    "# use 80% of data to train, 20% to test\n",
    "\n",
    "split <- floor(n * 0.80)\n",
    "train <- diamonds[1:split,]\n",
    "test <- diamonds[-(1:split),]\n",
    "\n",
    "dim(train)\n",
    "dim(test)"
   ]
  },
  {
   "cell_type": "code",
   "execution_count": 9,
   "metadata": {
    "collapsed": false
   },
   "outputs": [
    {
     "data": {
      "text/html": [
       "<ol class=list-inline>\n",
       "\t<li>43152</li>\n",
       "\t<li>23</li>\n",
       "</ol>\n"
      ],
      "text/latex": [
       "\\begin{enumerate*}\n",
       "\\item 43152\n",
       "\\item 23\n",
       "\\end{enumerate*}\n"
      ],
      "text/markdown": [
       "1. 43152\n",
       "2. 23\n",
       "\n",
       "\n"
      ],
      "text/plain": [
       "[1] 43152    23"
      ]
     },
     "execution_count": 9,
     "metadata": {},
     "output_type": "execute_result"
    }
   ],
   "source": [
    "y = train$ideal_cut\n",
    "X = data.matrix(select(train, -ideal_cut))\n",
    "dim(X)"
   ]
  },
  {
   "cell_type": "code",
   "execution_count": 10,
   "metadata": {
    "collapsed": false
   },
   "outputs": [
    {
     "data": {
      "text/html": [
       "<ol class=list-inline>\n",
       "\t<li>-1.48200931660863</li>\n",
       "\t<li>-0.36867242886476</li>\n",
       "\t<li>-2.46760646513066</li>\n",
       "\t<li>0.308565711579448</li>\n",
       "\t<li>1.1374511875137</li>\n",
       "\t<li>-0.022590756801188</li>\n",
       "\t<li>-0.0506833338669992</li>\n",
       "\t<li>0.354070794534404</li>\n",
       "\t<li>0.35398364869885</li>\n",
       "\t<li>0.354130909040944</li>\n",
       "\t<li>0.354049987487158</li>\n",
       "\t<li>0.35378235886342</li>\n",
       "\t<li>0.353934479080323</li>\n",
       "\t<li>0.354497609514143</li>\n",
       "\t<li>0.354229747456505</li>\n",
       "\t<li>0.354868332917325</li>\n",
       "\t<li>-0.286759299138915</li>\n",
       "\t<li>-0.118608659839336</li>\n",
       "\t<li>0.354766718596509</li>\n",
       "\t<li>0.353642270171624</li>\n",
       "\t<li>0.354674145763863</li>\n",
       "\t<li>0.35453005992151</li>\n",
       "\t<li>-1.50867059280253</li>\n",
       "</ol>\n"
      ],
      "text/latex": [
       "\\begin{enumerate*}\n",
       "\\item -1.48200931660863\n",
       "\\item -0.36867242886476\n",
       "\\item -2.46760646513066\n",
       "\\item 0.308565711579448\n",
       "\\item 1.1374511875137\n",
       "\\item -0.022590756801188\n",
       "\\item -0.0506833338669992\n",
       "\\item 0.354070794534404\n",
       "\\item 0.35398364869885\n",
       "\\item 0.354130909040944\n",
       "\\item 0.354049987487158\n",
       "\\item 0.35378235886342\n",
       "\\item 0.353934479080323\n",
       "\\item 0.354497609514143\n",
       "\\item 0.354229747456505\n",
       "\\item 0.354868332917325\n",
       "\\item -0.286759299138915\n",
       "\\item -0.118608659839336\n",
       "\\item 0.354766718596509\n",
       "\\item 0.353642270171624\n",
       "\\item 0.354674145763863\n",
       "\\item 0.35453005992151\n",
       "\\item -1.50867059280253\n",
       "\\end{enumerate*}\n"
      ],
      "text/markdown": [
       "1. -1.48200931660863\n",
       "2. -0.36867242886476\n",
       "3. -2.46760646513066\n",
       "4. 0.308565711579448\n",
       "5. 1.1374511875137\n",
       "6. -0.022590756801188\n",
       "7. -0.0506833338669992\n",
       "8. 0.354070794534404\n",
       "9. 0.35398364869885\n",
       "10. 0.354130909040944\n",
       "11. 0.354049987487158\n",
       "12. 0.35378235886342\n",
       "13. 0.353934479080323\n",
       "14. 0.354497609514143\n",
       "15. 0.354229747456505\n",
       "16. 0.354868332917325\n",
       "17. -0.286759299138915\n",
       "18. -0.118608659839336\n",
       "19. 0.354766718596509\n",
       "20. 0.353642270171624\n",
       "21. 0.354674145763863\n",
       "22. 0.35453005992151\n",
       "23. -1.50867059280253\n",
       "\n",
       "\n"
      ],
      "text/plain": [
       " [1] -1.48200932 -0.36867243 -2.46760647  0.30856571  1.13745119 -0.02259076\n",
       " [7] -0.05068333  0.35407079  0.35398365  0.35413091  0.35404999  0.35378236\n",
       "[13]  0.35393448  0.35449761  0.35422975  0.35486833 -0.28675930 -0.11860866\n",
       "[19]  0.35476672  0.35364227  0.35467415  0.35453006 -1.50867059"
      ]
     },
     "execution_count": 10,
     "metadata": {},
     "output_type": "execute_result"
    }
   ],
   "source": [
    "# try regular linear regression\n",
    "\n",
    "# Warning: COST OR GRADIENT MAY BE INCORRECT HERE\n",
    "library(functional)\n",
    "\n",
    "lambda <- 10\n",
    "\n",
    "sigmoid <- function(z) {\n",
    "  1 / (1 + exp(-z))\n",
    "}\n",
    "\n",
    "cost <- function(theta, X, y, lambda) {\n",
    "  vals <- X %*% theta\n",
    "  (1 / nrow(X)) * sum((-1 * y) * log(sigmoid(vals)) - \n",
    "                        (1 - y) * log(1 - sigmoid(vals))) +\n",
    "    ((lambda / nrow(X)) * sum(theta[2:length(theta)] ^ 2))\n",
    "}\n",
    "\n",
    "cost_wrapper <- Curry(cost, X = X, lambda = lambda)\n",
    "\n",
    "grad <- function(theta, X, y, lambda) {\n",
    "  vals <- X %*% theta\n",
    "  (1 / nrow(X)) * (t(X) %*% (sigmoid(vals) - y)) + \n",
    "    ((lambda / nrow(X)) * sum(theta[2:length(theta)]))\n",
    "}\n",
    "\n",
    "grad_wrapper <- Curry(grad, X = X, lambda = lambda)\n",
    "\n",
    "model <- optim(par = rep(0, length(X[1,])),\n",
    "               fn = cost_wrapper,\n",
    "               gr = grad_wrapper,\n",
    "               y = y,\n",
    "               control = list(maxit = 1000,\n",
    "                              alpha = 10))\n",
    "\n",
    "model$par"
   ]
  },
  {
   "cell_type": "code",
   "execution_count": 11,
   "metadata": {
    "collapsed": false,
    "scrolled": false
   },
   "outputs": [
    {
     "data": {
      "text/html": [
       "<table>\n",
       "<thead><tr><th></th><th scope=col>ideal_cut</th><th scope=col>predict_ideal</th></tr></thead>\n",
       "<tbody>\n",
       "\t<tr><th scope=row>1</th><td>0</td><td>0</td></tr>\n",
       "\t<tr><th scope=row>2</th><td>1</td><td>1</td></tr>\n",
       "\t<tr><th scope=row>3</th><td>1</td><td>1</td></tr>\n",
       "\t<tr><th scope=row>4</th><td>1</td><td>1</td></tr>\n",
       "\t<tr><th scope=row>5</th><td>0</td><td>0</td></tr>\n",
       "\t<tr><th scope=row>6</th><td>1</td><td>1</td></tr>\n",
       "\t<tr><th scope=row>7</th><td>0</td><td>0</td></tr>\n",
       "\t<tr><th scope=row>8</th><td>0</td><td>0</td></tr>\n",
       "\t<tr><th scope=row>9</th><td>0</td><td>0</td></tr>\n",
       "\t<tr><th scope=row>10</th><td>1</td><td>1</td></tr>\n",
       "</tbody>\n",
       "</table>\n"
      ],
      "text/latex": [
       "\\begin{tabular}{r|ll}\n",
       "  & ideal_cut & predict_ideal\\\\\n",
       "\\hline\n",
       "\t1 & 0 & 0\\\\\n",
       "\t2 & 1 & 1\\\\\n",
       "\t3 & 1 & 1\\\\\n",
       "\t4 & 1 & 1\\\\\n",
       "\t5 & 0 & 0\\\\\n",
       "\t6 & 1 & 1\\\\\n",
       "\t7 & 0 & 0\\\\\n",
       "\t8 & 0 & 0\\\\\n",
       "\t9 & 0 & 0\\\\\n",
       "\t10 & 1 & 1\\\\\n",
       "\\end{tabular}\n"
      ],
      "text/plain": [
       "Source: local data frame [10 x 2]\n",
       "\n",
       "   ideal_cut predict_ideal\n",
       "       (dbl)         (dbl)\n",
       "1          0             0\n",
       "2          1             1\n",
       "3          1             1\n",
       "4          1             1\n",
       "5          0             0\n",
       "6          1             1\n",
       "7          0             0\n",
       "8          0             0\n",
       "9          0             0\n",
       "10         1             1"
      ]
     },
     "execution_count": 11,
     "metadata": {},
     "output_type": "execute_result"
    }
   ],
   "source": [
    "# predict\n",
    "\n",
    "X2 <- data.matrix(select(test, -ideal_cut))\n",
    "\n",
    "test$predict_ideal <- ifelse((sigmoid(X2 %*% model$par) > 0.5), 1, 0)\n",
    "\n",
    "# show a smaple of predictions\n",
    "select(test, ideal_cut, predict_ideal) %>%\n",
    "   sample_n(10)\n"
   ]
  },
  {
   "cell_type": "code",
   "execution_count": 12,
   "metadata": {
    "collapsed": false
   },
   "outputs": [
    {
     "name": "stdout",
     "output_type": "stream",
     "text": [
      "$acc\n",
      "[1] 0.781\n",
      "\n",
      "$prec\n",
      "[1] 0.743\n",
      "\n",
      "$rec\n",
      "[1] 0.694\n",
      "\n",
      "$f1\n",
      "[1] 0.718\n",
      "\n"
     ]
    }
   ],
   "source": [
    "# calc F1, Precision, Recall, Accuracy\n",
    "\n",
    "tp <- sum(test$ideal_cut == 1 & test$predict_ideal == 1)\n",
    "tn <- sum(test$ideal_cut == 0 & test$predict_ideal == 0)\n",
    "fp <- sum(test$ideal_cut == 0 & test$predict_ideal == 1)\n",
    "fn <- sum(test$ideal_cut == 1 & test$predict_ideal == 0)\n",
    "\n",
    "results <- list(\n",
    "  acc = round((tp + tn) / nrow(test), 3),\n",
    "  prec = round(tp / (tp + fp), 3),\n",
    "  rec = round(tp / (fn + tp), 3)\n",
    ")\n",
    "results$f1 = round(2 * results$prec * results$rec / (results$prec + results$rec), 3)\n",
    "\n",
    "print(results)"
   ]
  },
  {
   "cell_type": "code",
   "execution_count": 13,
   "metadata": {
    "collapsed": false
   },
   "outputs": [
    {
     "data": {
      "text/html": [
       "<table>\n",
       "<thead><tr><th></th><th scope=col>ideal_cut</th><th scope=col>predict_ideal2</th></tr></thead>\n",
       "<tbody>\n",
       "\t<tr><th scope=row>1</th><td>0</td><td>0</td></tr>\n",
       "\t<tr><th scope=row>2</th><td>0</td><td>0</td></tr>\n",
       "\t<tr><th scope=row>3</th><td>1</td><td>1</td></tr>\n",
       "\t<tr><th scope=row>4</th><td>0</td><td>0</td></tr>\n",
       "\t<tr><th scope=row>5</th><td>0</td><td>0</td></tr>\n",
       "\t<tr><th scope=row>6</th><td>0</td><td>0</td></tr>\n",
       "\t<tr><th scope=row>7</th><td>1</td><td>1</td></tr>\n",
       "\t<tr><th scope=row>8</th><td>0</td><td>0</td></tr>\n",
       "\t<tr><th scope=row>9</th><td>0</td><td>0</td></tr>\n",
       "\t<tr><th scope=row>10</th><td>0</td><td>0</td></tr>\n",
       "</tbody>\n",
       "</table>\n"
      ],
      "text/latex": [
       "\\begin{tabular}{r|ll}\n",
       "  & ideal_cut & predict_ideal2\\\\\n",
       "\\hline\n",
       "\t1 & 0 & 0\\\\\n",
       "\t2 & 0 & 0\\\\\n",
       "\t3 & 1 & 1\\\\\n",
       "\t4 & 0 & 0\\\\\n",
       "\t5 & 0 & 0\\\\\n",
       "\t6 & 0 & 0\\\\\n",
       "\t7 & 1 & 1\\\\\n",
       "\t8 & 0 & 0\\\\\n",
       "\t9 & 0 & 0\\\\\n",
       "\t10 & 0 & 0\\\\\n",
       "\\end{tabular}\n"
      ],
      "text/plain": [
       "Source: local data frame [10 x 2]\n",
       "\n",
       "   ideal_cut predict_ideal2\n",
       "       (dbl)          (dbl)\n",
       "1          0              0\n",
       "2          0              0\n",
       "3          1              1\n",
       "4          0              0\n",
       "5          0              0\n",
       "6          0              0\n",
       "7          1              1\n",
       "8          0              0\n",
       "9          0              0\n",
       "10         0              0"
      ]
     },
     "execution_count": 13,
     "metadata": {},
     "output_type": "execute_result"
    }
   ],
   "source": [
    "library(xgboost, warn.conflicts = FALSE)\n",
    "\n",
    "# train\n",
    "model = xgboost(data = X, \n",
    "                label = y,\n",
    "                nthread = 4,\n",
    "                max.depth = 25,\n",
    "                alpha = 1.5,\n",
    "                lambda = 1.5,\n",
    "                nrounds = 200,\n",
    "                eval_metric = \"rmse\",\n",
    "                objective = \"reg:logistic\",\n",
    "                verbose = 0)\n",
    "\n",
    "# predict\n",
    "test$predict_ideal2 <- round(xgboost::predict(model, data.matrix(test)), 0)\n",
    "\n",
    "\n",
    "# show a sample\n",
    "select(test, ideal_cut, predict_ideal2) %>%\n",
    "   sample_n(10)"
   ]
  },
  {
   "cell_type": "code",
   "execution_count": 14,
   "metadata": {
    "collapsed": false,
    "scrolled": true
   },
   "outputs": [
    {
     "name": "stdout",
     "output_type": "stream",
     "text": [
      "$acc\n",
      "[1] 0.857\n",
      "\n",
      "$prec\n",
      "[1] 0.801\n",
      "\n",
      "$rec\n",
      "[1] 0.856\n",
      "\n",
      "$f1\n",
      "[1] 0.828\n",
      "\n"
     ]
    }
   ],
   "source": [
    "# calc F1, Precision, Recall, Accuracy\n",
    "\n",
    "tp2 <- sum(test$ideal_cut == 1 & test$predict_ideal2 == 1)\n",
    "tn2 <- sum(test$ideal_cut == 0 & test$predict_ideal2 == 0)\n",
    "fp2 <- sum(test$ideal_cut == 0 & test$predict_ideal2 == 1)\n",
    "fn2 <- sum(test$ideal_cut == 1 & test$predict_ideal2 == 0)\n",
    "\n",
    "results2 <- list(\n",
    "  acc = round((tp2 + tn2) / nrow(test), 3),\n",
    "  prec = round(tp2 / (tp2 + fp2), 3),\n",
    "  rec = round(tp2 / (fn2 + tp2), 3)\n",
    ")\n",
    "results2$f1 = round(2 * results2$prec * results2$rec / (results2$prec + results2$rec), 3)\n",
    "\n",
    "print(results2)"
   ]
  }
 ],
 "metadata": {
  "kernelspec": {
   "display_name": "R",
   "language": "R",
   "name": "ir"
  },
  "language_info": {
   "codemirror_mode": "r",
   "file_extension": ".r",
   "mimetype": "text/x-r-source",
   "name": "R",
   "pygments_lexer": "r",
   "version": "3.2.4"
  }
 },
 "nbformat": 4,
 "nbformat_minor": 0
}
