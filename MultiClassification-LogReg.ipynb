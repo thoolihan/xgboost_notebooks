{
 "cells": [
  {
   "cell_type": "code",
   "execution_count": 1,
   "metadata": {
    "collapsed": false
   },
   "outputs": [
    {
     "data": {
      "text/html": [
       "<ol class=list-inline>\n",
       "\t<li>53940</li>\n",
       "\t<li>10</li>\n",
       "</ol>\n"
      ],
      "text/latex": [
       "\\begin{enumerate*}\n",
       "\\item 53940\n",
       "\\item 10\n",
       "\\end{enumerate*}\n"
      ],
      "text/markdown": [
       "1. 53940\n",
       "2. 10\n",
       "\n",
       "\n"
      ],
      "text/plain": [
       "[1] 53940    10"
      ]
     },
     "execution_count": 1,
     "metadata": {},
     "output_type": "execute_result"
    }
   ],
   "source": [
    "# Load up diamonds data set\n",
    "library(ggplot2)\n",
    "\n",
    "# view rows and columns\n",
    "dim(diamonds) "
   ]
  },
  {
   "cell_type": "code",
   "execution_count": 2,
   "metadata": {
    "collapsed": false
   },
   "outputs": [],
   "source": [
    "# make factors into bit fields\n",
    "\n",
    "library(dplyr, warn.conflicts = FALSE)\n",
    "\n",
    "# NOTE: this time, other cuts removed. We are going to predict: Ideal or Not\n",
    "diamonds <- mutate(diamonds,\n",
    "                   \n",
    "    # cut            \n",
    "    fair_cut = ifelse(cut == 'Fair', 1, 0),\n",
    "    good_cut = ifelse(cut == 'Good', 1, 0),\n",
    "    vgood_cut = ifelse(cut == 'Very Good', 1, 0),\n",
    "    prem_cut = ifelse(cut == 'Premium', 1, 0),\n",
    "    ideal_cut = ifelse(cut == 'Ideal', 1, 0),\n",
    "                   \n",
    "    # color\n",
    "    D = ifelse(color == 'D', 1, 0),\n",
    "    E = ifelse(color == 'E', 1, 0),\n",
    "    F = ifelse(color == 'F', 1, 0),\n",
    "    G = ifelse(color == 'G', 1, 0),\n",
    "    H = ifelse(color == 'H', 1, 0),\n",
    "    I = ifelse(color == 'I', 1, 0),\n",
    "    J = ifelse(color == 'J', 1, 0)                  \n",
    ")\n",
    "\n",
    "# remove the factors\n",
    "\n",
    "diamonds <- select(diamonds, -color, -cut)"
   ]
  },
  {
   "cell_type": "code",
   "execution_count": 3,
   "metadata": {
    "collapsed": false
   },
   "outputs": [],
   "source": [
    "# convert factor to a numeric code\n",
    "diamonds[diamonds$clarity == 'I1',   'clarity_num'] = 0\n",
    "diamonds[diamonds$clarity == 'IF',   'clarity_num'] = 1\n",
    "diamonds[diamonds$clarity == 'SI1',  'clarity_num'] = 2\n",
    "diamonds[diamonds$clarity == 'SI2',  'clarity_num'] = 3\n",
    "diamonds[diamonds$clarity == 'VS1',  'clarity_num'] = 4\n",
    "diamonds[diamonds$clarity == 'VS2',  'clarity_num'] = 5\n",
    "diamonds[diamonds$clarity == 'VVS1', 'clarity_num'] = 6\n",
    "diamonds[diamonds$clarity == 'VVS2', 'clarity_num'] = 7"
   ]
  },
  {
   "cell_type": "code",
   "execution_count": 4,
   "metadata": {
    "collapsed": false
   },
   "outputs": [
    {
     "data": {
      "text/html": [
       "<ol class=list-inline>\n",
       "\t<li>43152</li>\n",
       "\t<li>21</li>\n",
       "</ol>\n"
      ],
      "text/latex": [
       "\\begin{enumerate*}\n",
       "\\item 43152\n",
       "\\item 21\n",
       "\\end{enumerate*}\n"
      ],
      "text/markdown": [
       "1. 43152\n",
       "2. 21\n",
       "\n",
       "\n"
      ],
      "text/plain": [
       "[1] 43152    21"
      ]
     },
     "execution_count": 4,
     "metadata": {},
     "output_type": "execute_result"
    },
    {
     "data": {
      "text/html": [
       "<ol class=list-inline>\n",
       "\t<li>10788</li>\n",
       "\t<li>21</li>\n",
       "</ol>\n"
      ],
      "text/latex": [
       "\\begin{enumerate*}\n",
       "\\item 10788\n",
       "\\item 21\n",
       "\\end{enumerate*}\n"
      ],
      "text/markdown": [
       "1. 10788\n",
       "2. 21\n",
       "\n",
       "\n"
      ],
      "text/plain": [
       "[1] 10788    21"
      ]
     },
     "execution_count": 4,
     "metadata": {},
     "output_type": "execute_result"
    }
   ],
   "source": [
    "# randomize the order\n",
    "\n",
    "n <- nrow(diamonds)\n",
    "diamonds <- diamonds[sample(n), ]\n",
    "\n",
    "# use 80% of data to train, 20% to test\n",
    "\n",
    "split <- floor(n * 0.80)\n",
    "train <- diamonds[1:split,]\n",
    "test <- diamonds[-(1:split),]\n",
    "\n",
    "dim(train)\n",
    "dim(test)"
   ]
  },
  {
   "cell_type": "code",
   "execution_count": 5,
   "metadata": {
    "collapsed": false
   },
   "outputs": [
    {
     "data": {
      "text/html": [
       "<ol class=list-inline>\n",
       "\t<li>43152</li>\n",
       "\t<li>1</li>\n",
       "</ol>\n"
      ],
      "text/latex": [
       "\\begin{enumerate*}\n",
       "\\item 43152\n",
       "\\item 1\n",
       "\\end{enumerate*}\n"
      ],
      "text/markdown": [
       "1. 43152\n",
       "2. 1\n",
       "\n",
       "\n"
      ],
      "text/plain": [
       "[1] 43152     1"
      ]
     },
     "execution_count": 5,
     "metadata": {},
     "output_type": "execute_result"
    },
    {
     "data": {
      "text/html": [
       "<ol class=list-inline>\n",
       "\t<li>43152</li>\n",
       "\t<li>19</li>\n",
       "</ol>\n"
      ],
      "text/latex": [
       "\\begin{enumerate*}\n",
       "\\item 43152\n",
       "\\item 19\n",
       "\\end{enumerate*}\n"
      ],
      "text/markdown": [
       "1. 43152\n",
       "2. 19\n",
       "\n",
       "\n"
      ],
      "text/plain": [
       "[1] 43152    19"
      ]
     },
     "execution_count": 5,
     "metadata": {},
     "output_type": "execute_result"
    }
   ],
   "source": [
    "y = data.matrix(train[, 'clarity_num'])\n",
    "X = data.matrix(select(train, -clarity, -clarity_num))\n",
    "dim(y)\n",
    "dim(X)"
   ]
  },
  {
   "cell_type": "code",
   "execution_count": 10,
   "metadata": {
    "collapsed": false
   },
   "outputs": [
    {
     "data": {
      "text/html": [
       "<table>\n",
       "<thead><tr><th></th><th scope=col>clarity_num</th><th scope=col>predicted</th></tr></thead>\n",
       "<tbody>\n",
       "\t<tr><th scope=row>1</th><td>5</td><td>5</td></tr>\n",
       "\t<tr><th scope=row>2</th><td>3</td><td>3</td></tr>\n",
       "\t<tr><th scope=row>3</th><td>2</td><td>2</td></tr>\n",
       "\t<tr><th scope=row>4</th><td>3</td><td>3</td></tr>\n",
       "\t<tr><th scope=row>5</th><td>5</td><td>2</td></tr>\n",
       "\t<tr><th scope=row>6</th><td>5</td><td>5</td></tr>\n",
       "\t<tr><th scope=row>7</th><td>3</td><td>3</td></tr>\n",
       "\t<tr><th scope=row>8</th><td>4</td><td>7</td></tr>\n",
       "\t<tr><th scope=row>9</th><td>6</td><td>4</td></tr>\n",
       "\t<tr><th scope=row>10</th><td>2</td><td>3</td></tr>\n",
       "</tbody>\n",
       "</table>\n"
      ],
      "text/latex": [
       "\\begin{tabular}{r|ll}\n",
       "  & clarity_num & predicted\\\\\n",
       "\\hline\n",
       "\t1 & 5 & 5\\\\\n",
       "\t2 & 3 & 3\\\\\n",
       "\t3 & 2 & 2\\\\\n",
       "\t4 & 3 & 3\\\\\n",
       "\t5 & 5 & 2\\\\\n",
       "\t6 & 5 & 5\\\\\n",
       "\t7 & 3 & 3\\\\\n",
       "\t8 & 4 & 7\\\\\n",
       "\t9 & 6 & 4\\\\\n",
       "\t10 & 2 & 3\\\\\n",
       "\\end{tabular}\n"
      ],
      "text/plain": [
       "Source: local data frame [10 x 2]\n",
       "\n",
       "   clarity_num predicted\n",
       "         (dbl)     (dbl)\n",
       "1            5         5\n",
       "2            3         3\n",
       "3            2         2\n",
       "4            3         3\n",
       "5            5         2\n",
       "6            5         5\n",
       "7            3         3\n",
       "8            4         7\n",
       "9            6         4\n",
       "10           2         3"
      ]
     },
     "execution_count": 10,
     "metadata": {},
     "output_type": "execute_result"
    }
   ],
   "source": [
    "library(xgboost, warn.conflicts = FALSE)\n",
    "\n",
    "# train\n",
    "model = xgboost(data = X, \n",
    "                label = y,\n",
    "                nthread = 4,\n",
    "                max.depth = 20,\n",
    "                alpha = 1.5,\n",
    "                lambda = 1.5,\n",
    "                nrounds = 100,\n",
    "                objective = \"multi:softmax\",\n",
    "                num_class = 8,\n",
    "                verbose = 0)\n",
    "\n",
    "# predict\n",
    "test$predicted <- xgboost::predict(model, data.matrix(select(test, -clarity, -clarity_num)))\n",
    "\n",
    "# show a sample\n",
    "select(test, clarity_num, predicted) %>%\n",
    "   sample_n(10)"
   ]
  },
  {
   "cell_type": "code",
   "execution_count": 11,
   "metadata": {
    "collapsed": false,
    "scrolled": true
   },
   "outputs": [
    {
     "name": "stdout",
     "output_type": "stream",
     "text": [
      "[1] 0.6959585\n"
     ]
    }
   ],
   "source": [
    "# show accuracy\n",
    "\n",
    "acc <- sum(test$predicted == test$clarity_num) / nrow(test)\n",
    "\n",
    "print(acc)"
   ]
  }
 ],
 "metadata": {
  "kernelspec": {
   "display_name": "R",
   "language": "R",
   "name": "ir"
  },
  "language_info": {
   "codemirror_mode": "r",
   "file_extension": ".r",
   "mimetype": "text/x-r-source",
   "name": "R",
   "pygments_lexer": "r",
   "version": "3.2.4"
  }
 },
 "nbformat": 4,
 "nbformat_minor": 0
}
